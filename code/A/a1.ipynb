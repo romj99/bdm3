{
 "cells": [
  {
   "cell_type": "markdown",
   "id": "d4a80272",
   "metadata": {},
   "source": [
    "# A.1 Explore the data and choose the KPI’s\n",
    "\n",
    "In this notebook, we will explore the available datasets, choose 3 and then identify key performance indicators (KPIs) that can help us understand the business better."
   ]
  },
  {
   "cell_type": "code",
   "execution_count": null,
   "id": "eeb433a8",
   "metadata": {},
   "outputs": [],
   "source": [
    "import os\n",
    "import sys\n",
    "\n",
    "import polars as pl\n",
    "\n",
    "from pathlib import Path\n",
    "\n",
    "sys.path.append(os.path.abspath(os.path.join(\"..\")))\n",
    "\n",
    "from utils.eda_dashboard import inspect_dataframe_interactive"
   ]
  },
  {
   "cell_type": "code",
   "execution_count": 2,
   "id": "232c6dc1",
   "metadata": {},
   "outputs": [],
   "source": [
    "DATA_PATH = Path(\"../../data/\")\n",
    "\n",
    "# Individual datasets\n",
    "sets = {\n",
    "    \"cs\": \"cultural-sites\",\n",
    "    \"ide\": \"idealista\",\n",
    "    \"in\": \"incidences\",\n",
    "    \"inc\": \"income\",\n",
    "    \"lt\": \"lookup_tables\",\n",
    "    \"po\": \"price_opendata\",\n",
    "    \"un\": \"unemployment\",\n",
    "}"
   ]
  },
  {
   "cell_type": "code",
   "execution_count": 3,
   "id": "f61d1fa0",
   "metadata": {},
   "outputs": [],
   "source": [
    "def read_many(path: Path | str) -> pl.DataFrame:\n",
    "    \"\"\"\n",
    "    Read and concatenate multiple CSV or JSON files from a directory.\n",
    "\n",
    "    The function automatically detects the file type (CSV or JSON) in the specified\n",
    "    directory and processes all files of that type. The directory must contain\n",
    "    only one file type - mixing CSV and JSON files will raise an error.\n",
    "\n",
    "    Args:\n",
    "        path: Path to the directory containing the files to read.\n",
    "              Can be a string or Path object.\n",
    "\n",
    "    Returns:\n",
    "        A concatenated Polars DataFrame containing data from all files.\n",
    "        Uses diagonal_relaxed concatenation to handle schema differences.\n",
    "\n",
    "    Raises:\n",
    "        ValueError: If the directory contains both CSV and JSON files,\n",
    "                   or if no CSV/JSON files are found.\n",
    "\n",
    "    Example:\n",
    "        >>> df = read_many(\"/path/to/csv/files\")\n",
    "        >>> df = read_many(Path(\"/path/to/json/files\"))\n",
    "    \"\"\"\n",
    "    f_path = Path(path)\n",
    "\n",
    "    # Get all CSV and JSON files\n",
    "    csv_files = list(f_path.glob(\"*.csv\"))\n",
    "    json_files = list(f_path.glob(\"*.json\"))\n",
    "\n",
    "    # Validate that folder contains only one file type\n",
    "    if csv_files and json_files:\n",
    "        raise ValueError(\n",
    "            \"Folder contains both CSV and JSON files. Only one file type is supported.\"\n",
    "        )\n",
    "\n",
    "    if not csv_files and not json_files:\n",
    "        raise ValueError(\"No CSV or JSON files found in the specified folder.\")\n",
    "\n",
    "    # Process based on file type found\n",
    "    if csv_files:\n",
    "        # CSV logic\n",
    "        print(f\"Reading {len(csv_files)} CSV file(s)\")\n",
    "        queries = [pl.scan_csv(file) for file in csv_files]\n",
    "        dataframes = pl.collect_all(queries)\n",
    "    else:\n",
    "        # JSON logic with error handling\n",
    "        print(f\"Reading {len(json_files)} JSON file(s)\")\n",
    "        dataframes = []\n",
    "        for file in json_files:\n",
    "            try:\n",
    "                # Try standard JSON first\n",
    "                df = pl.read_json(file, infer_schema_length=10000)\n",
    "                dataframes.append(df)\n",
    "            except pl.ComputeError:\n",
    "                try:\n",
    "                    # If that fails, try JSONL/NDJSON format\n",
    "                    df = pl.read_ndjson(file, infer_schema_length=10000)\n",
    "                    dataframes.append(df)\n",
    "                except Exception as e:\n",
    "                    raise ValueError(f\"Failed to read JSON file {file}: {e}\")\n",
    "\n",
    "    return pl.concat(dataframes, how=\"diagonal_relaxed\")"
   ]
  },
  {
   "cell_type": "markdown",
   "id": "dd8b6ed1",
   "metadata": {},
   "source": [
    "## Cultural sites"
   ]
  },
  {
   "cell_type": "code",
   "execution_count": 4,
   "id": "2df8d82e",
   "metadata": {},
   "outputs": [
    {
     "name": "stdout",
     "output_type": "stream",
     "text": [
      "Reading 1 CSV file(s)\n",
      "📊 CULTURAL SITES - SUMMARY\n",
      "============================================================\n",
      "Shape: 871 rows × 32 columns\n",
      "Memory usage: 0.24 MB\n",
      "\n",
      "Column Types:\n",
      "  Numeric: 14\n",
      "  Categorical: 16\n",
      "  Date: 0\n",
      "  Other: 2\n",
      "\n",
      "Data Quality:\n",
      "  Missing values: 7,705 (27.64%)\n",
      "  Duplicate rows: 0 (0.00%)\n",
      "\n",
      "💡 Key Insights:\n",
      "  ⚠️  High missing data rate (27.6%)\n",
      "\n",
      "============================================================\n"
     ]
    },
    {
     "data": {
      "application/vnd.jupyter.widget-view+json": {
       "model_id": "c93cf47e831649cba9dae548e87fe7df",
       "version_major": 2,
       "version_minor": 0
      },
      "text/plain": [
       "VBox(children=(VBox(children=(HTML(value='<h3>🔍 Interactive DataFrame Inspector</h3>'), HBox(children=(Dropdow…"
      ]
     },
     "metadata": {},
     "output_type": "display_data"
    }
   ],
   "source": [
    "df_cs = read_many(DATA_PATH / sets[\"cs\"])\n",
    "_ = inspect_dataframe_interactive(df_cs, name=\"Cultural Sites\")"
   ]
  },
  {
   "cell_type": "markdown",
   "id": "3a300cc8",
   "metadata": {},
   "source": [
    "## Idealista"
   ]
  },
  {
   "cell_type": "code",
   "execution_count": 5,
   "id": "78616ae2",
   "metadata": {},
   "outputs": [
    {
     "name": "stdout",
     "output_type": "stream",
     "text": [
      "Reading 132 JSON file(s)\n",
      "📊 IDEALISTA - SUMMARY\n",
      "============================================================\n",
      "Shape: 21,389 rows × 37 columns\n",
      "Memory usage: 7.54 MB\n",
      "\n",
      "Column Types:\n",
      "  Numeric: 8\n",
      "  Categorical: 15\n",
      "  Date: 0\n",
      "  Other: 14\n",
      "\n",
      "Data Quality:\n",
      "  Missing values: 55,569 (7.02%)\n",
      "  Duplicate rows: 1,254 (5.86%)\n",
      "\n",
      "💡 Key Insights:\n",
      "  ⚠️  Significant duplicates (5.9%)\n",
      "\n",
      "============================================================\n"
     ]
    },
    {
     "data": {
      "application/vnd.jupyter.widget-view+json": {
       "model_id": "fdb192bf498b40869b7137504cc369ff",
       "version_major": 2,
       "version_minor": 0
      },
      "text/plain": [
       "VBox(children=(VBox(children=(HTML(value='<h3>🔍 Interactive DataFrame Inspector</h3>'), HBox(children=(Dropdow…"
      ]
     },
     "metadata": {},
     "output_type": "display_data"
    }
   ],
   "source": [
    "df_ide = read_many(DATA_PATH / sets[\"ide\"])\n",
    "_ = inspect_dataframe_interactive(df_ide, name=\"Idealista\")"
   ]
  },
  {
   "cell_type": "markdown",
   "id": "f1946136",
   "metadata": {},
   "source": [
    "## Incidences"
   ]
  },
  {
   "cell_type": "code",
   "execution_count": 6,
   "id": "d0dba872",
   "metadata": {},
   "outputs": [
    {
     "name": "stdout",
     "output_type": "stream",
     "text": [
      "Reading 9 CSV file(s)\n",
      "📊 INCIDENCES - SUMMARY\n",
      "============================================================\n",
      "Shape: 900 rows × 26 columns\n",
      "Memory usage: 0.21 MB\n",
      "\n",
      "Column Types:\n",
      "  Numeric: 14\n",
      "  Categorical: 12\n",
      "  Date: 0\n",
      "  Other: 0\n",
      "\n",
      "Data Quality:\n",
      "  Missing values: 5,596 (23.91%)\n",
      "  Duplicate rows: 0 (0.00%)\n",
      "\n",
      "💡 Key Insights:\n",
      "  ⚠️  High missing data rate (23.9%)\n",
      "\n",
      "============================================================\n"
     ]
    },
    {
     "data": {
      "application/vnd.jupyter.widget-view+json": {
       "model_id": "49d59fce3b404f59a97a54c0842e0b53",
       "version_major": 2,
       "version_minor": 0
      },
      "text/plain": [
       "VBox(children=(VBox(children=(HTML(value='<h3>🔍 Interactive DataFrame Inspector</h3>'), HBox(children=(Dropdow…"
      ]
     },
     "metadata": {},
     "output_type": "display_data"
    }
   ],
   "source": [
    "df_in = read_many(DATA_PATH / sets[\"in\"])\n",
    "_ = inspect_dataframe_interactive(df_in, name=\"Incidences\")"
   ]
  },
  {
   "cell_type": "markdown",
   "id": "f5a4c9b7",
   "metadata": {},
   "source": [
    "## Income"
   ]
  },
  {
   "cell_type": "code",
   "execution_count": 7,
   "id": "1e38f8da",
   "metadata": {},
   "outputs": [
    {
     "name": "stdout",
     "output_type": "stream",
     "text": [
      "Reading 11 CSV file(s)\n",
      "📊 INCOME - SUMMARY\n",
      "============================================================\n",
      "Shape: 811 rows × 7 columns\n",
      "Memory usage: 0.05 MB\n",
      "\n",
      "Column Types:\n",
      "  Numeric: 4\n",
      "  Categorical: 3\n",
      "  Date: 0\n",
      "  Other: 0\n",
      "\n",
      "Data Quality:\n",
      "  Missing values: 0 (0.00%)\n",
      "  Duplicate rows: 0 (0.00%)\n",
      "\n",
      "✅ Data appears to be in good shape!\n",
      "\n",
      "============================================================\n"
     ]
    },
    {
     "data": {
      "application/vnd.jupyter.widget-view+json": {
       "model_id": "1399354982184a83bf4a6af5aad4d75b",
       "version_major": 2,
       "version_minor": 0
      },
      "text/plain": [
       "VBox(children=(VBox(children=(HTML(value='<h3>🔍 Interactive DataFrame Inspector</h3>'), HBox(children=(Dropdow…"
      ]
     },
     "metadata": {},
     "output_type": "display_data"
    }
   ],
   "source": [
    "df_inc = read_many(DATA_PATH / sets[\"inc\"])\n",
    "_ = inspect_dataframe_interactive(df_inc, name=\"Income\")"
   ]
  },
  {
   "cell_type": "markdown",
   "id": "2d6609ef",
   "metadata": {},
   "source": [
    "## Lookup tables"
   ]
  },
  {
   "cell_type": "code",
   "execution_count": 8,
   "id": "be689d66",
   "metadata": {},
   "outputs": [
    {
     "name": "stdout",
     "output_type": "stream",
     "text": [
      "Reading 2 CSV file(s)\n",
      "📊 LOOKUP TABLE - SUMMARY\n",
      "============================================================\n",
      "Shape: 127 rows × 8 columns\n",
      "Memory usage: 0.01 MB\n",
      "\n",
      "Column Types:\n",
      "  Numeric: 0\n",
      "  Categorical: 8\n",
      "  Date: 0\n",
      "  Other: 0\n",
      "\n",
      "Data Quality:\n",
      "  Missing values: 0 (0.00%)\n",
      "  Duplicate rows: 14 (11.02%)\n",
      "\n",
      "💡 Key Insights:\n",
      "  ⚠️  Significant duplicates (11.0%)\n",
      "  ℹ️  No numeric columns found\n",
      "\n",
      "============================================================\n"
     ]
    },
    {
     "data": {
      "application/vnd.jupyter.widget-view+json": {
       "model_id": "8d50423ac8ff47e999ecfa63677d1148",
       "version_major": 2,
       "version_minor": 0
      },
      "text/plain": [
       "VBox(children=(VBox(children=(HTML(value='<h3>🔍 Interactive DataFrame Inspector</h3>'), HBox(children=(Dropdow…"
      ]
     },
     "metadata": {},
     "output_type": "display_data"
    }
   ],
   "source": [
    "df_lt = read_many(DATA_PATH / sets[\"lt\"])\n",
    "_ = inspect_dataframe_interactive(df_lt, name=\"Lookup Table\")"
   ]
  },
  {
   "cell_type": "markdown",
   "id": "24b406e7",
   "metadata": {},
   "source": [
    "## Price opendata"
   ]
  },
  {
   "cell_type": "code",
   "execution_count": 9,
   "id": "dde07e8b",
   "metadata": {},
   "outputs": [
    {
     "name": "stdout",
     "output_type": "stream",
     "text": [
      "Reading 1 JSON file(s)\n",
      "📊 PRICE OPENDATA - SUMMARY\n",
      "============================================================\n",
      "Shape: 73 rows × 5 columns\n",
      "Memory usage: 0.02 MB\n",
      "\n",
      "Column Types:\n",
      "  Numeric: 2\n",
      "  Categorical: 2\n",
      "  Date: 0\n",
      "  Other: 1\n",
      "\n",
      "Data Quality:\n",
      "  Missing values: 0 (0.00%)\n",
      "  Duplicate rows: 0 (0.00%)\n",
      "\n",
      "💡 Key Insights:\n",
      "  ⚠️  Small dataset\n",
      "\n",
      "============================================================\n"
     ]
    },
    {
     "name": "stderr",
     "output_type": "stream",
     "text": [
      "C:\\Users\\mmpei\\AppData\\Local\\Temp\\ipykernel_17276\\1472380360.py:55: DeprecationWarning:\n",
      "\n",
      "accessing `ComputeError` from the top-level `polars` module was deprecated in version 1.0.0. Import it directly from the `polars.exceptions` module instead, e.g.: `from polars.exceptions import ComputeError`\n",
      "\n"
     ]
    },
    {
     "data": {
      "application/vnd.jupyter.widget-view+json": {
       "model_id": "4f3db91c0d60476884daeae6dc07276d",
       "version_major": 2,
       "version_minor": 0
      },
      "text/plain": [
       "VBox(children=(VBox(children=(HTML(value='<h3>🔍 Interactive DataFrame Inspector</h3>'), HBox(children=(Dropdow…"
      ]
     },
     "metadata": {},
     "output_type": "display_data"
    }
   ],
   "source": [
    "df_po = read_many(DATA_PATH / sets[\"po\"])\n",
    "_ = inspect_dataframe_interactive(df_po, name=\"Price Opendata\")"
   ]
  },
  {
   "cell_type": "markdown",
   "id": "d6b17e40",
   "metadata": {},
   "source": [
    "## Unemployment"
   ]
  },
  {
   "cell_type": "code",
   "execution_count": 10,
   "id": "fee847ae",
   "metadata": {},
   "outputs": [
    {
     "name": "stdout",
     "output_type": "stream",
     "text": [
      "Reading 13 JSON file(s)\n",
      "📊 UNEMPLOYMENT - SUMMARY\n",
      "============================================================\n",
      "Shape: 13 rows × 4 columns\n",
      "Memory usage: 0.08 MB\n",
      "\n",
      "Column Types:\n",
      "  Numeric: 0\n",
      "  Categorical: 1\n",
      "  Date: 0\n",
      "  Other: 3\n",
      "\n",
      "Data Quality:\n",
      "  Missing values: 13 (25.00%)\n",
      "  Duplicate rows: 0 (0.00%)\n",
      "\n",
      "💡 Key Insights:\n",
      "  ⚠️  High missing data rate (25.0%)\n",
      "  ℹ️  No numeric columns found\n",
      "  ⚠️  Small dataset\n",
      "\n",
      "============================================================\n"
     ]
    },
    {
     "data": {
      "application/vnd.jupyter.widget-view+json": {
       "model_id": "2df8e8f966ae4e358cdcc272834a9049",
       "version_major": 2,
       "version_minor": 0
      },
      "text/plain": [
       "VBox(children=(VBox(children=(HTML(value='<h3>🔍 Interactive DataFrame Inspector</h3>'), HBox(children=(Dropdow…"
      ]
     },
     "metadata": {},
     "output_type": "display_data"
    }
   ],
   "source": [
    "df_un = read_many(DATA_PATH / sets[\"un\"])\n",
    "_ = inspect_dataframe_interactive(df_un, name=\"Unemployment\")"
   ]
  }
 ],
 "metadata": {
  "kernelspec": {
   "display_name": "std_env",
   "language": "python",
   "name": "python3"
  },
  "language_info": {
   "codemirror_mode": {
    "name": "ipython",
    "version": 3
   },
   "file_extension": ".py",
   "mimetype": "text/x-python",
   "name": "python",
   "nbconvert_exporter": "python",
   "pygments_lexer": "ipython3",
   "version": "3.13.5"
  }
 },
 "nbformat": 4,
 "nbformat_minor": 5
}
