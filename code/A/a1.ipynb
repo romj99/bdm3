{
 "cells": [
  {
   "cell_type": "markdown",
   "id": "d4a80272",
   "metadata": {},
   "source": [
    "# A.1 Explore the data and choose the KPI’s\n",
    "\n",
    "In this notebook, we will explore the available datasets, choose 3 and then identify key performance indicators (KPIs) that can help us understand the business better."
   ]
  },
  {
   "cell_type": "code",
   "execution_count": 1,
   "id": "eeb433a8",
   "metadata": {},
   "outputs": [],
   "source": [
    "import os\n",
    "import sys\n",
    "\n",
    "import polars as pl\n",
    "\n",
    "from pathlib import Path\n",
    "\n",
    "sys.path.append(os.path.abspath(os.path.join(\"..\")))\n",
    "\n",
    "from utils.eda_dashboard import inspect_dataframe_interactive"
   ]
  },
  {
   "cell_type": "code",
   "execution_count": 2,
   "id": "232c6dc1",
   "metadata": {},
   "outputs": [],
   "source": [
    "DATA_PATH = Path(\"../../data/\")\n",
    "\n",
    "# Individual datasets\n",
    "sets = {\n",
    "    \"cs\": \"cultural-sites\",\n",
    "    \"ide\": \"idealista\",\n",
    "    \"in\": \"incidences\",\n",
    "    \"inc\": \"income\",\n",
    "    \"lt\": \"lookup_tables\",\n",
    "    \"po\": \"price_opendata\",\n",
    "    \"un\": \"unemployment\",\n",
    "}"
   ]
  },
  {
   "cell_type": "code",
   "execution_count": 3,
   "id": "f61d1fa0",
   "metadata": {},
   "outputs": [],
   "source": [
    "def read_many(path: Path | str) -> pl.DataFrame:\n",
    "    \"\"\"\n",
    "    Read and concatenate multiple CSV or JSON files from a directory.\n",
    "\n",
    "    The function automatically detects the file type (CSV or JSON) in the specified\n",
    "    directory and processes all files of that type. The directory must contain\n",
    "    only one file type - mixing CSV and JSON files will raise an error.\n",
    "\n",
    "    Args:\n",
    "        path: Path to the directory containing the files to read.\n",
    "              Can be a string or Path object.\n",
    "\n",
    "    Returns:\n",
    "        A concatenated Polars DataFrame containing data from all files.\n",
    "        Uses diagonal_relaxed concatenation to handle schema differences.\n",
    "\n",
    "    Raises:\n",
    "        ValueError: If the directory contains both CSV and JSON files,\n",
    "                   or if no CSV/JSON files are found.\n",
    "\n",
    "    Example:\n",
    "        >>> df = read_many(\"/path/to/csv/files\")\n",
    "        >>> df = read_many(Path(\"/path/to/json/files\"))\n",
    "    \"\"\"\n",
    "    f_path = Path(path)\n",
    "\n",
    "    # Get all CSV and JSON files\n",
    "    csv_files = list(f_path.glob(\"*.csv\"))\n",
    "    json_files = list(f_path.glob(\"*.json\"))\n",
    "\n",
    "    # Validate that folder contains only one file type\n",
    "    if csv_files and json_files:\n",
    "        raise ValueError(\n",
    "            \"Folder contains both CSV and JSON files. Only one file type is supported.\"\n",
    "        )\n",
    "\n",
    "    if not csv_files and not json_files:\n",
    "        raise ValueError(\"No CSV or JSON files found in the specified folder.\")\n",
    "\n",
    "    # Process based on file type found\n",
    "    if csv_files:\n",
    "        # CSV logic\n",
    "        print(f\"Reading {len(csv_files)} CSV file(s)\")\n",
    "        queries = [pl.scan_csv(file) for file in csv_files]\n",
    "        dataframes = pl.collect_all(queries)\n",
    "    else:\n",
    "        # JSON logic with error handling\n",
    "        print(f\"Reading {len(json_files)} JSON file(s)\")\n",
    "        dataframes = []\n",
    "        for file in json_files:\n",
    "            try:\n",
    "                # Try standard JSON first\n",
    "                df = pl.read_json(file, infer_schema_length=10000)\n",
    "                dataframes.append(df)\n",
    "            except pl.ComputeError:\n",
    "                try:\n",
    "                    # If that fails, try JSONL/NDJSON format\n",
    "                    df = pl.read_ndjson(file, infer_schema_length=10000)\n",
    "                    dataframes.append(df)\n",
    "                except Exception as e:\n",
    "                    raise ValueError(f\"Failed to read JSON file {file}: {e}\")\n",
    "\n",
    "    return pl.concat(dataframes, how=\"diagonal_relaxed\")"
   ]
  },
  {
   "cell_type": "markdown",
   "id": "dd8b6ed1",
   "metadata": {},
   "source": [
    "## Cultural sites"
   ]
  },
  {
   "cell_type": "code",
   "execution_count": 4,
   "id": "2df8d82e",
   "metadata": {},
   "outputs": [
    {
     "name": "stdout",
     "output_type": "stream",
     "text": [
      "Reading 1 CSV file(s)\n",
      "📊 CULTURAL SITES - SUMMARY\n",
      "============================================================\n",
      "Shape: 871 rows × 32 columns\n",
      "Memory usage: 0.24 MB\n",
      "\n",
      "Column Types:\n",
      "  Numeric: 14\n",
      "  Categorical: 16\n",
      "  Date: 0\n",
      "  Other: 2\n",
      "\n",
      "Data Quality:\n",
      "  Missing values: 7,705 (27.64%)\n",
      "  Duplicate rows: 0 (0.00%)\n",
      "\n",
      "💡 Key Insights:\n",
      "  ⚠️  High missing data rate (27.6%)\n",
      "Summary overview:\n",
      "shape: (9, 33)\n",
      "┌────────────┬─────────────────────────┬─────────────────────────────┬───────────────────────┬─────────────────────┬──────────────────────┬────────────────────┬────────────────────────┬────────────────┬─────────────────┬─────────────────┬─────────────────────────┬──────────────────┬───────────────────────────────┬─────────────┬────────────────┬────────────────────────┬───────────────────────┬───────────────────────┬────────────────┬───────────────────────────┬────────────┬─────────────────────────────────┬───────────────────┬────────────────────────────┬──────────────────┬──────────────────────────┬────────────────────────────┬─────────────────────┬───────────────┬─────────────────────────────┬────────────────────┬─────────────────────┐\n",
      "│ statistic  ┆ addresses_roadtype_name ┆ addresses_end_street_number ┆ values_attribute_name ┆ addresses_road_name ┆ values_category      ┆ addresses_zip_code ┆ values_value           ┆ addresses_town ┆ geo_epgs_4326_y ┆ geo_epgs_4326_x ┆ addresses_district_name ┆ geo_epgs_25831_x ┆ addresses_start_street_number ┆ register_id ┆ institution_id ┆ addresses_main_address ┆ addresses_district_id ┆ addresses_roadtype_id ┆ addresses_type ┆ addresses_neighborhood_id ┆ _id        ┆ name                            ┆ addresses_road_id ┆ created                    ┆ geo_epgs_25831_y ┆ institution_name         ┆ modified                   ┆ values_description  ┆ values_id     ┆ addresses_neighborhood_name ┆ values_outstanding ┆ values_attribute_id │\n",
      "│ ---        ┆ ---                     ┆ ---                         ┆ ---                   ┆ ---                 ┆ ---                  ┆ ---                ┆ ---                    ┆ ---            ┆ ---             ┆ ---             ┆ ---                     ┆ ---              ┆ ---                           ┆ ---         ┆ ---            ┆ ---                    ┆ ---                   ┆ ---                   ┆ ---            ┆ ---                       ┆ ---        ┆ ---                             ┆ ---               ┆ ---                        ┆ ---              ┆ ---                      ┆ ---                        ┆ ---                 ┆ ---           ┆ ---                         ┆ ---                ┆ ---                 │\n",
      "│ str        ┆ str                     ┆ f64                         ┆ str                   ┆ str                 ┆ str                  ┆ f64                ┆ str                    ┆ str            ┆ f64             ┆ f64             ┆ str                     ┆ f64              ┆ f64                           ┆ str         ┆ f64            ┆ f64                    ┆ f64                   ┆ str                   ┆ str            ┆ f64                       ┆ f64        ┆ str                             ┆ f64               ┆ str                        ┆ f64              ┆ str                      ┆ str                        ┆ str                 ┆ f64           ┆ str                         ┆ f64                ┆ f64                 │\n",
      "╞════════════╪═════════════════════════╪═════════════════════════════╪═══════════════════════╪═════════════════════╪══════════════════════╪════════════════════╪════════════════════════╪════════════════╪═════════════════╪═════════════════╪═════════════════════════╪══════════════════╪═══════════════════════════════╪═════════════╪════════════════╪════════════════════════╪═══════════════════════╪═══════════════════════╪════════════════╪═══════════════════════════╪════════════╪═════════════════════════════════╪═══════════════════╪════════════════════════════╪══════════════════╪══════════════════════════╪════════════════════════════╪═════════════════════╪═══════════════╪═════════════════════════════╪════════════════════╪═════════════════════╡\n",
      "│ count      ┆ 0                       ┆ 49.0                        ┆ 591                   ┆ 871                 ┆ 591                  ┆ 871.0              ┆ 591                    ┆ 871            ┆ 871.0           ┆ 871.0           ┆ 871                     ┆ 871.0            ┆ 849.0                         ┆ 871         ┆ 22.0           ┆ 871.0                  ┆ 871.0                 ┆ 0                     ┆ 0              ┆ 871.0                     ┆ 871.0      ┆ 871                             ┆ 871.0             ┆ 871                        ┆ 871.0            ┆ 22                       ┆ 871                        ┆ 1                   ┆ 591.0         ┆ 871                         ┆ 591.0              ┆ 591.0               │\n",
      "│ null_count ┆ 871                     ┆ 822.0                       ┆ 280                   ┆ 0                   ┆ 280                  ┆ 0.0                ┆ 280                    ┆ 0              ┆ 0.0             ┆ 0.0             ┆ 0                       ┆ 0.0              ┆ 22.0                          ┆ 0           ┆ 849.0          ┆ 0.0                    ┆ 0.0                   ┆ 871                   ┆ 871            ┆ 0.0                       ┆ 0.0        ┆ 0                               ┆ 0.0               ┆ 0                          ┆ 0.0              ┆ 849                      ┆ 0                          ┆ 870                 ┆ 280.0         ┆ 0                           ┆ 280.0              ┆ 280.0               │\n",
      "│ mean       ┆ null                    ┆ 262.591837                  ┆ null                  ┆ null                ┆ null                 ┆ 8020.138921        ┆ null                   ┆ null           ┆ 2.160038        ┆ 41.400673       ┆ null                    ┆ 429786.966885    ┆ 116.274441                    ┆ null        ┆ 9.1277e10      ┆ 0.997704               ┆ 5.001148              ┆ null                  ┆ null           ┆ 27.574053                 ┆ 436.0      ┆ null                            ┆ 234429.642939     ┆ null                       ┆ 4.5836e6         ┆ null                     ┆ null                       ┆ null                ┆ 119600.631134 ┆ null                        ┆ 0.825719           ┆ 81873.423012        │\n",
      "│ std        ┆ null                    ┆ 1423.34209                  ┆ null                  ┆ null                ┆ null                 ┆ 12.172996          ┆ null                   ┆ null           ┆ 0.025457        ┆ 0.02082         ┆ null                    ┆ 2133.023998      ┆ 689.868848                    ┆ null        ┆ 6.8235e9       ┆ null                   ┆ 2.813555              ┆ null                  ┆ null           ┆ 20.529625                 ┆ 251.580338 ┆ null                            ┆ 170563.950781     ┆ null                       ┆ 2306.91044       ┆ null                     ┆ null                       ┆ null                ┆ 124698.531395 ┆ null                        ┆ null               ┆ 37331.744386        │\n",
      "│ min        ┆ null                    ┆ 1.0                         ┆ Any construcció       ┆ Av Albert Bastardas ┆ Informació d'interès ┆ 8001.0             ┆ -                      ┆ BARCELONA      ┆ 2.059007        ┆ 41.353039       ┆ Ciutat Vella            ┆ 421360.274582    ┆ 1.0                           ┆ ﻿1011100037  ┆ 7.5990e10      ┆ 0.0                    ┆ 1.0                   ┆ null                  ┆ null           ┆ 1.0                       ┆ 1.0        ┆ \"Vivendes\" del Congrés Eucarís… ┆ 306.0             ┆ 1984-05-30T00:00:00        ┆ 4.5783e6         ┆ Barcelona Activa         ┆ 2021-03-03T22:16:02.833809 ┆ Centre Cívic Urgell ┆ 13090.0       ┆ Baró de Viver               ┆ 0.0                ┆ 2.0                 │\n",
      "│ 25%        ┆ null                    ┆ 2.0                         ┆ null                  ┆ null                ┆ null                 ┆ 8009.0             ┆ null                   ┆ null           ┆ 2.143035        ┆ 41.384547       ┆ null                    ┆ 428348.681681    ┆ 5.0                           ┆ null        ┆ 9.2086e10      ┆ null                   ┆ 3.0                   ┆ null                  ┆ null           ┆ 11.0                      ┆ 219.0      ┆ null                            ┆ 115400.0          ┆ null                       ┆ 4.5818e6         ┆ null                     ┆ null                       ┆ null                ┆ 41187.0       ┆ null                        ┆ null               ┆ 100002.0            │\n",
      "│ 50%        ┆ null                    ┆ 14.0                        ┆ null                  ┆ null                ┆ null                 ┆ 8022.0             ┆ null                   ┆ null           ┆ 2.160232        ┆ 41.399665       ┆ null                    ┆ 429815.040602    ┆ 27.0                          ┆ null        ┆ 9.2086e10      ┆ null                   ┆ 5.0                   ┆ null                  ┆ null           ┆ 24.0                      ┆ 436.0      ┆ null                            ┆ 206403.0          ┆ null                       ┆ 4.5835e6         ┆ null                     ┆ null                       ┆ null                ┆ 58511.0       ┆ null                        ┆ null               ┆ 100002.0            │\n",
      "│ 75%        ┆ null                    ┆ 103.0                       ┆ null                  ┆ null                ┆ null                 ┆ 8030.0             ┆ null                   ┆ null           ┆ 2.17957         ┆ 41.413632       ┆ null                    ┆ 431422.078542    ┆ 80.0                          ┆ null        ┆ 9.2262e10      ┆ null                   ┆ 7.0                   ┆ null                  ┆ null           ┆ 39.0                      ┆ 654.0      ┆ null                            ┆ 302702.0          ┆ null                       ┆ 4.5850e6         ┆ null                     ┆ null                       ┆ null                ┆ 96164.0       ┆ null                        ┆ null               ┆ 100003.0            │\n",
      "│ max        ┆ null                    ┆ 9999.0                      ┆ merce-eq-destacat     ┆ la Rambla           ┆ Variables            ┆ 8042.0             ┆ zoobarcelona@bsmsa.cat ┆ Barcelona      ┆ 2.228124        ┆ 41.464787       ┆ Sarrià-Sant Gervasi     ┆ 435489.198503    ┆ 9999.0                        ┆ ﻿99400703089 ┆ 9.9400e10      ┆ 1.0                    ┆ 10.0                  ┆ null                  ┆ null           ┆ 73.0                      ┆ 871.0      ┆ Àntiga Fàbrica de Làmpares Z    ┆ 701747.0          ┆ 2022-12-16T10:11:45.750827 ┆ 4.5907e6         ┆ Universitat de Barcelona ┆ 2023-04-11T14:57:31.666007 ┆ Centre Cívic Urgell ┆ 507525.0      ┆ les Tres Torres             ┆ 1.0                ┆ 100058.0            │\n",
      "└────────────┴─────────────────────────┴─────────────────────────────┴───────────────────────┴─────────────────────┴──────────────────────┴────────────────────┴────────────────────────┴────────────────┴─────────────────┴─────────────────┴─────────────────────────┴──────────────────┴───────────────────────────────┴─────────────┴────────────────┴────────────────────────┴───────────────────────┴───────────────────────┴────────────────┴───────────────────────────┴────────────┴─────────────────────────────────┴───────────────────┴────────────────────────────┴──────────────────┴──────────────────────────┴────────────────────────────┴─────────────────────┴───────────────┴─────────────────────────────┴────────────────────┴─────────────────────┘\n",
      "\n",
      "============================================================\n"
     ]
    },
    {
     "data": {
      "application/vnd.jupyter.widget-view+json": {
       "model_id": "2e5fb495d51c46f393571cc7378ac298",
       "version_major": 2,
       "version_minor": 0
      },
      "text/plain": [
       "VBox(children=(VBox(children=(HTML(value='<h3>🔍 Interactive DataFrame Inspector</h3>'), HBox(children=(Dropdow…"
      ]
     },
     "metadata": {},
     "output_type": "display_data"
    }
   ],
   "source": [
    "df_cs = read_many(DATA_PATH / sets[\"cs\"])\n",
    "_ = inspect_dataframe_interactive(df_cs, name=\"Cultural Sites\")"
   ]
  },
  {
   "cell_type": "markdown",
   "id": "3a300cc8",
   "metadata": {},
   "source": [
    "## Idealista"
   ]
  },
  {
   "cell_type": "code",
   "execution_count": 5,
   "id": "78616ae2",
   "metadata": {},
   "outputs": [
    {
     "name": "stdout",
     "output_type": "stream",
     "text": [
      "Reading 132 JSON file(s)\n",
      "📊 IDEALISTA - SUMMARY\n",
      "============================================================\n",
      "Shape: 21,389 rows × 37 columns\n",
      "Memory usage: 7.54 MB\n",
      "\n",
      "Column Types:\n",
      "  Numeric: 8\n",
      "  Categorical: 15\n",
      "  Date: 0\n",
      "  Other: 14\n",
      "\n",
      "Data Quality:\n",
      "  Missing values: 55,569 (7.02%)\n",
      "  Duplicate rows: 1,254 (5.86%)\n",
      "\n",
      "💡 Key Insights:\n",
      "  ⚠️  Significant duplicates (5.9%)\n",
      "Summary overview:\n",
      "shape: (9, 38)\n",
      "┌────────────┬─────────────┬────────────┬───────────────────┬─────────────────────────────────┬──────────────┬─────────────┬───────────────────┬──────────┬──────────┬──────────┬────────┬──────────────┬────────────────┬───────────┬───────────────────────────────┬──────────────────┬──────────┬──────────────┬────────────────┬───────────┬───────────────┬────────────┬─────────┬───────────────────────────────┬───────────┬───────────┬───────────┬───────────┬───────┬─────────────────────────────────┬─────────┬───────────┬──────────┬──────────┬──────────────┬──────────────┬────────────────────────┐\n",
      "│ statistic  ┆ priceByArea ┆ hasStaging ┆ topNewDevelopment ┆ url                             ┆ detailedType ┆ showAddress ┆ externalReference ┆ exterior ┆ has360   ┆ hasVideo ┆ status ┆ propertyCode ┆ suggestedTexts ┆ operation ┆ neighborhood                  ┆ address          ┆ distance ┆ municipality ┆ newDevelopment ┆ has3DTour ┆ price         ┆ size       ┆ country ┆ district                      ┆ latitude  ┆ longitude ┆ bathrooms ┆ province  ┆ floor ┆ thumbnail                       ┆ hasPlan ┆ numPhotos ┆ rooms    ┆ hasLift  ┆ propertyType ┆ parkingSpace ┆ newDevelopmentFinished │\n",
      "│ ---        ┆ ---         ┆ ---        ┆ ---               ┆ ---                             ┆ ---          ┆ ---         ┆ ---               ┆ ---      ┆ ---      ┆ ---      ┆ ---    ┆ ---          ┆ ---            ┆ ---       ┆ ---                           ┆ ---              ┆ ---      ┆ ---          ┆ ---            ┆ ---       ┆ ---           ┆ ---        ┆ ---     ┆ ---                           ┆ ---       ┆ ---       ┆ ---       ┆ ---       ┆ ---   ┆ ---                             ┆ ---     ┆ ---       ┆ ---      ┆ ---      ┆ ---          ┆ ---          ┆ ---                    │\n",
      "│ str        ┆ f64         ┆ f64        ┆ f64               ┆ str                             ┆ f64          ┆ f64         ┆ str               ┆ f64      ┆ f64      ┆ f64      ┆ str    ┆ str          ┆ f64            ┆ str       ┆ str                           ┆ str              ┆ str      ┆ str          ┆ f64            ┆ f64       ┆ f64           ┆ f64        ┆ str     ┆ str                           ┆ f64       ┆ f64       ┆ f64       ┆ str       ┆ str   ┆ str                             ┆ f64     ┆ f64       ┆ f64      ┆ f64      ┆ str          ┆ f64          ┆ f64                    │\n",
      "╞════════════╪═════════════╪════════════╪═══════════════════╪═════════════════════════════════╪══════════════╪═════════════╪═══════════════════╪══════════╪══════════╪══════════╪════════╪══════════════╪════════════════╪═══════════╪═══════════════════════════════╪══════════════════╪══════════╪══════════════╪════════════════╪═══════════╪═══════════════╪════════════╪═════════╪═══════════════════════════════╪═══════════╪═══════════╪═══════════╪═══════════╪═══════╪═════════════════════════════════╪═════════╪═══════════╪══════════╪══════════╪══════════════╪══════════════╪════════════════════════╡\n",
      "│ count      ┆ 21389.0     ┆ 21389.0    ┆ 21389.0           ┆ 21389                           ┆ 21389.0      ┆ 21389.0     ┆ 19505             ┆ 21389.0  ┆ 21389.0  ┆ 21389.0  ┆ 21386  ┆ 21389        ┆ 21389.0        ┆ 21389     ┆ 13297                         ┆ 21389            ┆ 21389    ┆ 21389        ┆ 21389.0        ┆ 21389.0   ┆ 21389.0       ┆ 21389.0    ┆ 21389   ┆ 20928                         ┆ 21389.0   ┆ 21389.0   ┆ 21389.0   ┆ 21389     ┆ 16744 ┆ 21229                           ┆ 21389.0 ┆ 21389.0   ┆ 21389.0  ┆ 18194.0  ┆ 21389        ┆ 4440.0       ┆ 1209.0                 │\n",
      "│ null_count ┆ 0.0         ┆ 0.0        ┆ 0.0               ┆ 0                               ┆ 0.0          ┆ 0.0         ┆ 1884              ┆ 0.0      ┆ 0.0      ┆ 0.0      ┆ 3      ┆ 0            ┆ 0.0            ┆ 0         ┆ 8092                          ┆ 0                ┆ 0        ┆ 0            ┆ 0.0            ┆ 0.0       ┆ 0.0           ┆ 0.0        ┆ 0       ┆ 461                           ┆ 0.0       ┆ 0.0       ┆ 0.0       ┆ 0         ┆ 4645  ┆ 160                             ┆ 0.0     ┆ 0.0       ┆ 0.0      ┆ 3195.0   ┆ 0            ┆ 16949.0      ┆ 20180.0                │\n",
      "│ mean       ┆ 3482.201365 ┆ 0.00173    ┆ 0.0               ┆ null                            ┆ null         ┆ 0.132732    ┆ null              ┆ 0.655103 ┆ 0.071813 ┆ 0.23629  ┆ null   ┆ null         ┆ null           ┆ null      ┆ null                          ┆ null             ┆ null     ┆ null         ┆ 0.056524       ┆ 0.040722  ┆ 473394.312731 ┆ 161.847782 ┆ null    ┆ null                          ┆ 41.375979 ┆ 2.105892  ┆ 1.780401  ┆ null      ┆ null  ┆ null                            ┆ 0.39726 ┆ 23.191126 ┆ 3.205199 ┆ 0.738705 ┆ null         ┆ null         ┆ 0.081886               │\n",
      "│ std        ┆ 1701.539808 ┆ null       ┆ null              ┆ null                            ┆ null         ┆ null        ┆ null              ┆ null     ┆ null     ┆ null     ┆ null   ┆ null         ┆ null           ┆ null      ┆ null                          ┆ null             ┆ null     ┆ null         ┆ null           ┆ null      ┆ 597606.036158 ┆ 2203.86039 ┆ null    ┆ null                          ┆ 0.031822  ┆ 0.039339  ┆ 1.118756  ┆ null      ┆ null  ┆ null                            ┆ null    ┆ 12.963488 ┆ 1.216901 ┆ null     ┆ null         ┆ null         ┆ null                   │\n",
      "│ min        ┆ 1.0         ┆ 0.0        ┆ 0.0               ┆ https://www.idealista.com/inmu… ┆ null         ┆ 0.0         ┆ (CANVI) michelle  ┆ 0.0      ┆ 0.0      ┆ 0.0      ┆ good   ┆ 1394150      ┆ null           ┆ sale      ┆ Bellvitge                     ┆ 26 DE ENERO s/n  ┆ 1000     ┆ Barcelona    ┆ 0.0            ┆ 0.0       ┆ 34000.0       ┆ 10.0       ┆ es      ┆ Almeda                        ┆ 41.295745 ┆ 2.013654  ┆ 0.0       ┆ Barcelona ┆ -1    ┆ https://img3.idealista.com/blu… ┆ 0.0     ┆ 0.0       ┆ 0.0      ┆ 0.0      ┆ chalet       ┆ null         ┆ 0.0                    │\n",
      "│ 25%        ┆ 2320.0      ┆ null       ┆ null              ┆ null                            ┆ null         ┆ null        ┆ null              ┆ null     ┆ null     ┆ null     ┆ null   ┆ null         ┆ null           ┆ null      ┆ null                          ┆ null             ┆ null     ┆ null         ┆ null           ┆ null      ┆ 170500.0      ┆ 68.0       ┆ null    ┆ null                          ┆ 41.361574 ┆ 2.0785844 ┆ 1.0       ┆ null      ┆ null  ┆ null                            ┆ null    ┆ 14.0      ┆ 3.0      ┆ null     ┆ null         ┆ null         ┆ null                   │\n",
      "│ 50%        ┆ 3040.0      ┆ null       ┆ null              ┆ null                            ┆ null         ┆ null        ┆ null              ┆ null     ┆ null     ┆ null     ┆ null   ┆ null         ┆ null           ┆ null      ┆ null                          ┆ null             ┆ null     ┆ null         ┆ null           ┆ null      ┆ 280000.0      ┆ 88.0       ┆ null    ┆ null                          ┆ 41.370368 ┆ 2.1099677 ┆ 1.0       ┆ null      ┆ null  ┆ null                            ┆ null    ┆ 21.0      ┆ 3.0      ┆ null     ┆ null         ┆ null         ┆ null                   │\n",
      "│ 75%        ┆ 4138.0      ┆ null       ┆ null              ┆ null                            ┆ null         ┆ null        ┆ null              ┆ null     ┆ null     ┆ null     ┆ null   ┆ null         ┆ null           ┆ null      ┆ null                          ┆ null             ┆ null     ┆ null         ┆ null           ┆ null      ┆ 498000.0      ┆ 129.0      ┆ null    ┆ null                          ┆ 41.386122 ┆ 2.1353427 ┆ 2.0       ┆ null      ┆ null  ┆ null                            ┆ null    ┆ 30.0      ┆ 4.0      ┆ null     ┆ null         ┆ null         ┆ null                   │\n",
      "│ max        ┆ 25000.0     ┆ 1.0        ┆ 0.0               ┆ https://www.idealista.com/obra… ┆ null         ┆ 1.0         ┆ Ático Les Corts   ┆ 1.0      ┆ 1.0      ┆ 1.0      ┆ renew  ┆ 93215144     ┆ null           ┆ sale      ┆ Vilapicina i la Torre Llobeta ┆ zona correos s/n ┆ 999      ┆ Viladecans   ┆ 1.0            ┆ 1.0       ┆ 1.2e7         ┆ 144000.0   ┆ es      ┆ Zona Estación - Casco Antiguo ┆ 41.485005 ┆ 2.1949138 ┆ 19.0      ┆ Barcelona ┆ st    ┆ https://img3.idealista.com/blu… ┆ 1.0     ┆ 163.0     ┆ 15.0     ┆ 1.0      ┆ studio       ┆ null         ┆ 1.0                    │\n",
      "└────────────┴─────────────┴────────────┴───────────────────┴─────────────────────────────────┴──────────────┴─────────────┴───────────────────┴──────────┴──────────┴──────────┴────────┴──────────────┴────────────────┴───────────┴───────────────────────────────┴──────────────────┴──────────┴──────────────┴────────────────┴───────────┴───────────────┴────────────┴─────────┴───────────────────────────────┴───────────┴───────────┴───────────┴───────────┴───────┴─────────────────────────────────┴─────────┴───────────┴──────────┴──────────┴──────────────┴──────────────┴────────────────────────┘\n",
      "\n",
      "============================================================\n"
     ]
    },
    {
     "data": {
      "application/vnd.jupyter.widget-view+json": {
       "model_id": "e02e65756f614a0cab4fa121e8241ba4",
       "version_major": 2,
       "version_minor": 0
      },
      "text/plain": [
       "VBox(children=(VBox(children=(HTML(value='<h3>🔍 Interactive DataFrame Inspector</h3>'), HBox(children=(Dropdow…"
      ]
     },
     "metadata": {},
     "output_type": "display_data"
    }
   ],
   "source": [
    "df_ide = read_many(DATA_PATH / sets[\"ide\"])\n",
    "_ = inspect_dataframe_interactive(df_ide, name=\"Idealista\")"
   ]
  },
  {
   "cell_type": "markdown",
   "id": "f1946136",
   "metadata": {},
   "source": [
    "## Incidences"
   ]
  },
  {
   "cell_type": "code",
   "execution_count": 6,
   "id": "d0dba872",
   "metadata": {},
   "outputs": [
    {
     "name": "stdout",
     "output_type": "stream",
     "text": [
      "Reading 9 CSV file(s)\n",
      "📊 INCIDENCES - SUMMARY\n",
      "============================================================\n",
      "Shape: 900 rows × 26 columns\n",
      "Memory usage: 0.21 MB\n",
      "\n",
      "Column Types:\n",
      "  Numeric: 14\n",
      "  Categorical: 12\n",
      "  Date: 0\n",
      "  Other: 0\n",
      "\n",
      "Data Quality:\n",
      "  Missing values: 5,596 (23.91%)\n",
      "  Duplicate rows: 0 (0.00%)\n",
      "\n",
      "💡 Key Insights:\n",
      "  ⚠️  High missing data rate (23.9%)\n",
      "Summary overview:\n",
      "shape: (9, 27)\n",
      "┌────────────┬────────────────┬─────────────────────┬────────────────────┬─────────────────────────────────┬─────────────────┬─────────────┬─────────────┬──────────────────────────────┬──────────────┬──────────────┬─────────────┬───────────────┬─────────────────┬────────────┬─────────────────────────────────┬───────────────┬────────────────────┬───────────┬───────────────┬───────────────┬────────────────┬───────────────────┬────────────┬────────────┬─────────────┬────────────────────┐\n",
      "│ statistic  ┆ CODI_DISTRICTE ┆ DISTRICTE           ┆ ANY_DATA_TANCAMENT ┆ DETALL                          ┆ BARRI           ┆ FITXA_ID    ┆ LATITUD     ┆ AREA                         ┆ COORDENADA_Y ┆ COORDENADA_X ┆ LONGITUD    ┆ DIA_DATA_ALTA ┆ CANALS_RESPOSTA ┆ NUMERO     ┆ ELEMENT                         ┆ SECCIO_CENSAL ┆ MES_DATA_TANCAMENT ┆ TIPUS_VIA ┆ ANY_DATA_ALTA ┆ MES_DATA_ALTA ┆ SUPORT         ┆ CARRER            ┆ CODI_BARRI ┆ _id        ┆ TIPUS       ┆ DIA_DATA_TANCAMENT │\n",
      "│ ---        ┆ ---            ┆ ---                 ┆ ---                ┆ ---                             ┆ ---             ┆ ---         ┆ ---         ┆ ---                          ┆ ---          ┆ ---          ┆ ---         ┆ ---           ┆ ---             ┆ ---        ┆ ---                             ┆ ---           ┆ ---                ┆ ---       ┆ ---           ┆ ---           ┆ ---            ┆ ---               ┆ ---        ┆ ---        ┆ ---         ┆ ---                │\n",
      "│ str        ┆ f64            ┆ str                 ┆ f64                ┆ str                             ┆ str             ┆ f64         ┆ str         ┆ str                          ┆ f64          ┆ f64          ┆ str         ┆ f64           ┆ str             ┆ f64        ┆ str                             ┆ f64           ┆ f64                ┆ str       ┆ f64           ┆ f64           ┆ str            ┆ str               ┆ f64        ┆ f64        ┆ str         ┆ f64                │\n",
      "╞════════════╪════════════════╪═════════════════════╪════════════════════╪═════════════════════════════════╪═════════════════╪═════════════╪═════════════╪══════════════════════════════╪══════════════╪══════════════╪═════════════╪═══════════════╪═════════════════╪════════════╪═════════════════════════════════╪═══════════════╪════════════════════╪═══════════╪═══════════════╪═══════════════╪════════════════╪═══════════════════╪════════════╪════════════╪═════════════╪════════════════════╡\n",
      "│ count      ┆ 462.0          ┆ 462                 ┆ 900.0              ┆ 900                             ┆ 462             ┆ 900.0       ┆ 388         ┆ 900                          ┆ 430.0        ┆ 430.0        ┆ 388         ┆ 900.0         ┆ 900             ┆ 429.0      ┆ 900                             ┆ 444.0         ┆ 900.0              ┆ 418       ┆ 900.0         ┆ 900.0         ┆ 900            ┆ 429               ┆ 462.0      ┆ 900.0      ┆ 900         ┆ 900.0              │\n",
      "│ null_count ┆ 438.0          ┆ 438                 ┆ 0.0                ┆ 0                               ┆ 438             ┆ 0.0         ┆ 512         ┆ 0                            ┆ 470.0        ┆ 470.0        ┆ 512         ┆ 0.0           ┆ 0               ┆ 471.0      ┆ 0                               ┆ 456.0         ┆ 0.0                ┆ 482       ┆ 0.0           ┆ 0.0           ┆ 0              ┆ 471               ┆ 438.0      ┆ 0.0        ┆ 0           ┆ 0.0                │\n",
      "│ mean       ┆ 5.5671         ┆ null                ┆ 2018.0             ┆ null                            ┆ null            ┆ 3.1848e6    ┆ null        ┆ null                         ┆ 9.3835e6     ┆ 2.1691e6     ┆ null        ┆ 15.351111     ┆ null            ┆ 87.599068  ┆ null                            ┆ 60.675676     ┆ 1.778889           ┆ null      ┆ 2017.292222   ┆ 9.288889      ┆ null           ┆ null              ┆ 31.668831  ┆ 106.511111 ┆ null        ┆ 3.052222           │\n",
      "│ std        ┆ 2.903144       ┆ null                ┆ 2.583425           ┆ null                            ┆ null            ┆ 5.5232e6    ┆ null        ┆ null                         ┆ 1.8996e7     ┆ 6.8875e6     ┆ null        ┆ 10.434448     ┆ null            ┆ 139.459144 ┆ null                            ┆ 42.230617     ┆ 2.204505           ┆ null      ┆ 2.530382      ┆ 4.112826      ┆ null           ┆ null              ┆ 20.97547   ┆ 709.075965 ┆ null        ┆ 3.782835           │\n",
      "│ min        ┆ 1.0            ┆ Ciutat Vella        ┆ 2014.0             ┆ Accessibilitat / manteniment o… ┆ Can Baró        ┆ 1.0         ┆ 41.35732339 ┆ Agraïments                   ┆ 0.0          ┆ 0.0          ┆ 2.08531     ┆ 1.0           ┆ CARTA           ┆ 0.0        ┆ Activitats                      ┆ 1.0           ┆ 1.0                ┆ Avinguda  ┆ 2014.0        ┆ 1.0           ┆ ALTRES SUPORTS ┆ Agudells          ┆ 1.0        ┆ 1.0        ┆ AGRAIMENT   ┆ 1.0                │\n",
      "│ 25%        ┆ 3.0            ┆ null                ┆ 2016.0             ┆ null                            ┆ null            ┆ 115346.0    ┆ null        ┆ null                         ┆ 4.581939e6   ┆ 428833.0     ┆ null        ┆ 5.0           ┆ null            ┆ 9.0        ┆ null                            ┆ 27.0          ┆ 1.0                ┆ null      ┆ 2015.0        ┆ 8.0           ┆ null           ┆ null              ┆ 11.0       ┆ 26.0       ┆ null        ┆ 1.0                │\n",
      "│ 50%        ┆ 6.0            ┆ null                ┆ 2018.0             ┆ null                            ┆ null            ┆ 573959.0    ┆ null        ┆ null                         ┆ 4.584583e6   ┆ 430384.3128  ┆ null        ┆ 16.0          ┆ null            ┆ 36.0       ┆ null                            ┆ 53.0          ┆ 1.0                ┆ null      ┆ 2017.0        ┆ 12.0          ┆ null           ┆ null              ┆ 31.0       ┆ 51.0       ┆ null        ┆ 2.0                │\n",
      "│ 75%        ┆ 8.0            ┆ null                ┆ 2020.0             ┆ null                            ┆ null            ┆ 1.125966e6  ┆ null        ┆ null                         ┆ 4.5865e6     ┆ 431739.4313  ┆ null        ┆ 24.0          ┆ null            ┆ 99.0       ┆ null                            ┆ 88.0          ┆ 1.0                ┆ null      ┆ 2019.0        ┆ 12.0          ┆ null           ┆ null              ┆ 48.0       ┆ 75.0       ┆ null        ┆ 2.0                │\n",
      "│ max        ┆ 10.0           ┆ Sarrià-Sant Gervasi ┆ 2022.0             ┆ Zona gossos nova / canvi de ll… ┆ les Tres Torres ┆ 1.6905203e7 ┆ 41.46552    ┆ Urbanisme, obres i habitatge ┆ 8.8517313e7  ┆ 3.3218524e7  ┆ 2.219314183 ┆ 31.0          ┆ TELEFÒNIC       ┆ 1084.0     ┆ Àreadum distribució urbana de … ┆ 215.0         ┆ 9.0                ┆ Viaducte  ┆ 2022.0        ┆ 12.0          ┆ WEB            ┆ dels Jocs Florals ┆ 73.0       ┆ 12882.0    ┆ SUGGERIMENT ┆ 29.0               │\n",
      "└────────────┴────────────────┴─────────────────────┴────────────────────┴─────────────────────────────────┴─────────────────┴─────────────┴─────────────┴──────────────────────────────┴──────────────┴──────────────┴─────────────┴───────────────┴─────────────────┴────────────┴─────────────────────────────────┴───────────────┴────────────────────┴───────────┴───────────────┴───────────────┴────────────────┴───────────────────┴────────────┴────────────┴─────────────┴────────────────────┘\n",
      "\n",
      "============================================================\n"
     ]
    },
    {
     "data": {
      "application/vnd.jupyter.widget-view+json": {
       "model_id": "6af14904c0964c238d650df36528bccd",
       "version_major": 2,
       "version_minor": 0
      },
      "text/plain": [
       "VBox(children=(VBox(children=(HTML(value='<h3>🔍 Interactive DataFrame Inspector</h3>'), HBox(children=(Dropdow…"
      ]
     },
     "metadata": {},
     "output_type": "display_data"
    }
   ],
   "source": [
    "df_in = read_many(DATA_PATH / sets[\"in\"])\n",
    "_ = inspect_dataframe_interactive(df_in, name=\"Incidences\")"
   ]
  },
  {
   "cell_type": "markdown",
   "id": "f5a4c9b7",
   "metadata": {},
   "source": [
    "## Income"
   ]
  },
  {
   "cell_type": "code",
   "execution_count": 7,
   "id": "1e38f8da",
   "metadata": {},
   "outputs": [
    {
     "name": "stdout",
     "output_type": "stream",
     "text": [
      "Reading 11 CSV file(s)\n",
      "📊 INCOME - SUMMARY\n",
      "============================================================\n",
      "Shape: 811 rows × 7 columns\n",
      "Memory usage: 0.05 MB\n",
      "\n",
      "Column Types:\n",
      "  Numeric: 4\n",
      "  Categorical: 3\n",
      "  Date: 0\n",
      "  Other: 0\n",
      "\n",
      "Data Quality:\n",
      "  Missing values: 0 (0.00%)\n",
      "  Duplicate rows: 0 (0.00%)\n",
      "\n",
      "✅ Data appears to be in good shape!\n",
      "Summary overview:\n",
      "shape: (9, 8)\n",
      "┌────────────┬─────────────┬────────────────┬─────────────────────┬────────────┬─────────────────┬──────────────┬───────────────────────────┐\n",
      "│ statistic  ┆ Any         ┆ Codi_Districte ┆ Nom_Districte       ┆ Codi_Barri ┆ Nom_Barri       ┆ Població     ┆ Índex RFD Barcelona = 100 │\n",
      "│ ---        ┆ ---         ┆ ---            ┆ ---                 ┆ ---        ┆ ---             ┆ ---          ┆ ---                       │\n",
      "│ str        ┆ f64         ┆ f64            ┆ str                 ┆ f64        ┆ str             ┆ f64          ┆ str                       │\n",
      "╞════════════╪═════════════╪════════════════╪═════════════════════╪════════════╪═════════════════╪══════════════╪═══════════════════════════╡\n",
      "│ count      ┆ 811.0       ┆ 811.0          ┆ 811                 ┆ 811.0      ┆ 811             ┆ 811.0        ┆ 811                       │\n",
      "│ null_count ┆ 0.0         ┆ 0.0            ┆ 0                   ┆ 0.0        ┆ 0               ┆ 0.0          ┆ 0                         │\n",
      "│ mean       ┆ 2011.993835 ┆ 7.161529       ┆ null                ┆ 37.611591  ┆ null            ┆ 21943.408138 ┆ null                      │\n",
      "│ std        ┆ 3.158951    ┆ 9.583283       ┆ null                ┆ 21.857582  ┆ null            ┆ 14618.144852 ┆ null                      │\n",
      "│ min        ┆ 2007.0      ┆ 1.0            ┆ Ciutat Vella        ┆ 1.0        ┆ Baró de Viver   ┆ 1.0          ┆ -                         │\n",
      "│ 25%        ┆ 2009.0      ┆ 4.0            ┆ null                ┆ 19.0       ┆ null            ┆ 10356.0      ┆ null                      │\n",
      "│ 50%        ┆ 2012.0      ┆ 7.0            ┆ null                ┆ 37.0       ┆ null            ┆ 19732.0      ┆ null                      │\n",
      "│ 75%        ┆ 2015.0      ┆ 8.0            ┆ null                ┆ 56.0       ┆ null            ┆ 30290.0      ┆ null                      │\n",
      "│ max        ┆ 2017.0      ┆ 99.0           ┆ Sarrià-Sant Gervasi ┆ 99.0       ┆ les Tres Torres ┆ 58559.0      ┆ 99.9                      │\n",
      "└────────────┴─────────────┴────────────────┴─────────────────────┴────────────┴─────────────────┴──────────────┴───────────────────────────┘\n",
      "\n",
      "============================================================\n"
     ]
    },
    {
     "data": {
      "application/vnd.jupyter.widget-view+json": {
       "model_id": "bbc0827a5e13423288f7008772dd1d04",
       "version_major": 2,
       "version_minor": 0
      },
      "text/plain": [
       "VBox(children=(VBox(children=(HTML(value='<h3>🔍 Interactive DataFrame Inspector</h3>'), HBox(children=(Dropdow…"
      ]
     },
     "metadata": {},
     "output_type": "display_data"
    }
   ],
   "source": [
    "df_inc = read_many(DATA_PATH / sets[\"inc\"])\n",
    "_ = inspect_dataframe_interactive(df_inc, name=\"Income\")"
   ]
  },
  {
   "cell_type": "markdown",
   "id": "2d6609ef",
   "metadata": {},
   "source": [
    "## Lookup tables"
   ]
  },
  {
   "cell_type": "code",
   "execution_count": 8,
   "id": "be689d66",
   "metadata": {},
   "outputs": [
    {
     "name": "stdout",
     "output_type": "stream",
     "text": [
      "Reading 2 CSV file(s)\n",
      "📊 LOOKUP TABLE - SUMMARY\n",
      "============================================================\n",
      "Shape: 127 rows × 8 columns\n",
      "Memory usage: 0.01 MB\n",
      "\n",
      "Column Types:\n",
      "  Numeric: 0\n",
      "  Categorical: 8\n",
      "  Date: 0\n",
      "  Other: 0\n",
      "\n",
      "Data Quality:\n",
      "  Missing values: 0 (0.00%)\n",
      "  Duplicate rows: 14 (11.02%)\n",
      "\n",
      "💡 Key Insights:\n",
      "  ⚠️  Significant duplicates (11.0%)\n",
      "  ℹ️  No numeric columns found\n",
      "Summary overview:\n",
      "shape: (9, 9)\n",
      "┌────────────┬─────────────────────┬─────────────────┬───────────────────────┬─────────────────────┬─────────────┬───────────────────────────┬───────────────────────────────┬─────────────────┐\n",
      "│ statistic  ┆ district            ┆ neighborhood    ┆ district_n_reconciled ┆ district_n          ┆ district_id ┆ neighborhood_n_reconciled ┆ neighborhood_n                ┆ neighborhood_id │\n",
      "│ ---        ┆ ---                 ┆ ---             ┆ ---                   ┆ ---                 ┆ ---         ┆ ---                       ┆ ---                           ┆ ---             │\n",
      "│ str        ┆ str                 ┆ str             ┆ str                   ┆ str                 ┆ str         ┆ str                       ┆ str                           ┆ str             │\n",
      "╞════════════╪═════════════════════╪═════════════════╪═══════════════════════╪═════════════════════╪═════════════╪═══════════════════════════╪═══════════════════════════════╪═════════════════╡\n",
      "│ count      ┆ 127                 ┆ 127             ┆ 127                   ┆ 127                 ┆ 127         ┆ 127                       ┆ 127                           ┆ 127             │\n",
      "│ null_count ┆ 0                   ┆ 0               ┆ 0                     ┆ 0                   ┆ 0           ┆ 0                         ┆ 0                             ┆ 0               │\n",
      "│ mean       ┆ null                ┆ null            ┆ null                  ┆ null                ┆ null        ┆ null                      ┆ null                          ┆ null            │\n",
      "│ std        ┆ null                ┆ null            ┆ null                  ┆ null                ┆ null        ┆ null                      ┆ null                          ┆ null            │\n",
      "│ min        ┆ Ciutat Vella        ┆ Baró de Viver   ┆ Ciutat Vella          ┆ ciutat vella        ┆ Q1641049    ┆ Baró de Viver             ┆ baro de viver                 ┆ Q1026658        │\n",
      "│ 25%        ┆ null                ┆ null            ┆ null                  ┆ null                ┆ null        ┆ null                      ┆ null                          ┆ null            │\n",
      "│ 50%        ┆ null                ┆ null            ┆ null                  ┆ null                ┆ null        ┆ null                      ┆ null                          ┆ null            │\n",
      "│ 75%        ┆ null                ┆ null            ┆ null                  ┆ null                ┆ null        ┆ null                      ┆ null                          ┆ null            │\n",
      "│ max        ┆ Sarrià-Sant Gervasi ┆ les Tres Torres ┆ Sarrià-Sant Gervasi   ┆ sarria sant gervasi ┆ Q959944     ┆ el Coll                   ┆ vilapicina i la torre llobeta ┆ Q990510         │\n",
      "└────────────┴─────────────────────┴─────────────────┴───────────────────────┴─────────────────────┴─────────────┴───────────────────────────┴───────────────────────────────┴─────────────────┘\n",
      "\n",
      "============================================================\n"
     ]
    },
    {
     "data": {
      "application/vnd.jupyter.widget-view+json": {
       "model_id": "800fa66125724d05842094cae11d6aaa",
       "version_major": 2,
       "version_minor": 0
      },
      "text/plain": [
       "VBox(children=(VBox(children=(HTML(value='<h3>🔍 Interactive DataFrame Inspector</h3>'), HBox(children=(Dropdow…"
      ]
     },
     "metadata": {},
     "output_type": "display_data"
    }
   ],
   "source": [
    "df_lt = read_many(DATA_PATH / sets[\"lt\"])\n",
    "_ = inspect_dataframe_interactive(df_lt, name=\"Lookup Table\")"
   ]
  },
  {
   "cell_type": "markdown",
   "id": "24b406e7",
   "metadata": {},
   "source": [
    "## Price opendata"
   ]
  },
  {
   "cell_type": "code",
   "execution_count": 9,
   "id": "dde07e8b",
   "metadata": {},
   "outputs": [
    {
     "name": "stdout",
     "output_type": "stream",
     "text": [
      "Reading 1 JSON file(s)\n",
      "📊 PRICE OPENDATA - SUMMARY\n",
      "============================================================\n",
      "Shape: 73 rows × 5 columns\n",
      "Memory usage: 0.02 MB\n",
      "\n",
      "Column Types:\n",
      "  Numeric: 2\n",
      "  Categorical: 2\n",
      "  Date: 0\n",
      "  Other: 1\n",
      "\n",
      "Data Quality:\n",
      "  Missing values: 0 (0.00%)\n",
      "  Duplicate rows: 0 (0.00%)\n",
      "\n",
      "💡 Key Insights:\n",
      "  ⚠️  Small dataset\n",
      "Summary overview:\n",
      "shape: (9, 6)\n",
      "┌────────────┬───────────┬─────────────────┬─────────────┬─────────────────────┬──────┐\n",
      "│ statistic  ┆ _id       ┆ neigh_name      ┆ district_id ┆ district_name       ┆ info │\n",
      "│ ---        ┆ ---       ┆ ---             ┆ ---         ┆ ---                 ┆ ---  │\n",
      "│ str        ┆ f64       ┆ str             ┆ f64         ┆ str                 ┆ f64  │\n",
      "╞════════════╪═══════════╪═════════════════╪═════════════╪═════════════════════╪══════╡\n",
      "│ count      ┆ 73.0      ┆ 73              ┆ 73.0        ┆ 73                  ┆ 73.0 │\n",
      "│ null_count ┆ 0.0       ┆ 0               ┆ 0.0         ┆ 0                   ┆ 0.0  │\n",
      "│ mean       ┆ 37.0      ┆ null            ┆ 6.246575    ┆ null                ┆ null │\n",
      "│ std        ┆ 21.217131 ┆ null            ┆ 2.807633    ┆ null                ┆ null │\n",
      "│ min        ┆ 1.0       ┆ Baró de Viver   ┆ 1.0         ┆ Ciutat Vella        ┆ null │\n",
      "│ 25%        ┆ 19.0      ┆ null            ┆ 4.0         ┆ null                ┆ null │\n",
      "│ 50%        ┆ 37.0      ┆ null            ┆ 7.0         ┆ null                ┆ null │\n",
      "│ 75%        ┆ 55.0      ┆ null            ┆ 8.0         ┆ null                ┆ null │\n",
      "│ max        ┆ 73.0      ┆ les Tres Torres ┆ 10.0        ┆ Sarrià-Sant Gervasi ┆ null │\n",
      "└────────────┴───────────┴─────────────────┴─────────────┴─────────────────────┴──────┘\n",
      "\n",
      "============================================================\n"
     ]
    },
    {
     "name": "stderr",
     "output_type": "stream",
     "text": [
      "C:\\Users\\mmpei\\AppData\\Local\\Temp\\ipykernel_29224\\1472380360.py:55: DeprecationWarning:\n",
      "\n",
      "accessing `ComputeError` from the top-level `polars` module was deprecated in version 1.0.0. Import it directly from the `polars.exceptions` module instead, e.g.: `from polars.exceptions import ComputeError`\n",
      "\n"
     ]
    },
    {
     "data": {
      "application/vnd.jupyter.widget-view+json": {
       "model_id": "a2587e7270ef423bbbf08aa33bee1c58",
       "version_major": 2,
       "version_minor": 0
      },
      "text/plain": [
       "VBox(children=(VBox(children=(HTML(value='<h3>🔍 Interactive DataFrame Inspector</h3>'), HBox(children=(Dropdow…"
      ]
     },
     "metadata": {},
     "output_type": "display_data"
    }
   ],
   "source": [
    "df_po = read_many(DATA_PATH / sets[\"po\"])\n",
    "_ = inspect_dataframe_interactive(df_po, name=\"Price Opendata\")"
   ]
  },
  {
   "cell_type": "markdown",
   "id": "d6b17e40",
   "metadata": {},
   "source": [
    "## Unemployment"
   ]
  },
  {
   "cell_type": "code",
   "execution_count": 10,
   "id": "fee847ae",
   "metadata": {},
   "outputs": [
    {
     "name": "stdout",
     "output_type": "stream",
     "text": [
      "Reading 13 JSON file(s)\n",
      "📊 UNEMPLOYMENT - SUMMARY\n",
      "============================================================\n",
      "Shape: 13 rows × 4 columns\n",
      "Memory usage: 0.08 MB\n",
      "\n",
      "Column Types:\n",
      "  Numeric: 0\n",
      "  Categorical: 1\n",
      "  Date: 0\n",
      "  Other: 3\n",
      "\n",
      "Data Quality:\n",
      "  Missing values: 13 (25.00%)\n",
      "  Duplicate rows: 0 (0.00%)\n",
      "\n",
      "💡 Key Insights:\n",
      "  ⚠️  High missing data rate (25.0%)\n",
      "  ℹ️  No numeric columns found\n",
      "  ⚠️  Small dataset\n",
      "Summary overview:\n",
      "shape: (9, 5)\n",
      "┌────────────┬─────────────────────────────────┬──────────┬────────┬───────┐\n",
      "│ statistic  ┆ help                            ┆ success  ┆ result ┆ error │\n",
      "│ ---        ┆ ---                             ┆ ---      ┆ ---    ┆ ---   │\n",
      "│ str        ┆ str                             ┆ f64      ┆ f64    ┆ f64   │\n",
      "╞════════════╪═════════════════════════════════╪══════════╪════════╪═══════╡\n",
      "│ count      ┆ 13                              ┆ 13.0     ┆ 12.0   ┆ 1.0   │\n",
      "│ null_count ┆ 0                               ┆ 0.0      ┆ 1.0    ┆ 12.0  │\n",
      "│ mean       ┆ null                            ┆ 0.923077 ┆ null   ┆ null  │\n",
      "│ std        ┆ null                            ┆ null     ┆ null   ┆ null  │\n",
      "│ min        ┆ https://opendata-ajuntament.ba… ┆ 0.0      ┆ null   ┆ null  │\n",
      "│ 25%        ┆ null                            ┆ null     ┆ null   ┆ null  │\n",
      "│ 50%        ┆ null                            ┆ null     ┆ null   ┆ null  │\n",
      "│ 75%        ┆ null                            ┆ null     ┆ null   ┆ null  │\n",
      "│ max        ┆ https://opendata-ajuntament.ba… ┆ 1.0      ┆ null   ┆ null  │\n",
      "└────────────┴─────────────────────────────────┴──────────┴────────┴───────┘\n",
      "\n",
      "============================================================\n"
     ]
    },
    {
     "data": {
      "application/vnd.jupyter.widget-view+json": {
       "model_id": "a77ca5ddcdde4307a154f8ea7435b1bb",
       "version_major": 2,
       "version_minor": 0
      },
      "text/plain": [
       "VBox(children=(VBox(children=(HTML(value='<h3>🔍 Interactive DataFrame Inspector</h3>'), HBox(children=(Dropdow…"
      ]
     },
     "metadata": {},
     "output_type": "display_data"
    }
   ],
   "source": [
    "df_un = read_many(DATA_PATH / sets[\"un\"])\n",
    "_ = inspect_dataframe_interactive(df_un, name=\"Unemployment\")"
   ]
  },
  {
   "cell_type": "markdown",
   "id": "c7d42462",
   "metadata": {},
   "source": [
    "## Conclusion\n",
    "\n",
    "Based on the basic exploration of the datasets above, we have chosen the following three datasets for further analysis:\n",
    "\n",
    "### Selected Datasets\n",
    "\n",
    "#### 1. **Idealista (JSON)** ✅\n",
    "- **Size**: 21,389 rows × 37 columns\n",
    "- **Format**: JSON (satisfies the JSON requirement)\n",
    "- **Data Quality**: 7.02% missing data, 5.86% duplicates\n",
    "- **Rationale**: Richest dataset with comprehensive real estate information including prices, property characteristics, location data, and geographic coordinates. Essential for housing market analysis.\n",
    "\n",
    "#### 2. **Income (CSV)** ✅\n",
    "- **Size**: 811 rows × 7 columns  \n",
    "- **Format**: CSV\n",
    "- **Data Quality**: Excellent - 0% missing data, 0% duplicates\n",
    "- **Rationale**: Clean socioeconomic dataset providing income indices by district/neighborhood over time (2007-2017). Critical for understanding economic context and affordability.\n",
    "\n",
    "#### 3. **Cultural Sites (CSV)** ✅\n",
    "- **Size**: 871 rows × 32 columns\n",
    "- **Format**: CSV  \n",
    "- **Data Quality**: 27.6% missing data but manageable\n",
    "- **Rationale**: Geographic distribution of cultural amenities across Barcelona. Important for analyzing neighborhood attractiveness and quality of life indicators.\n",
    "\n",
    "### Rejected Datasets\n",
    "\n",
    "- **Unemployment**: Contains API metadata rather than actual unemployment statistics\n",
    "- **Incidences**: High missing data rate (23.9%) and unclear business value\n",
    "- **Price Opendata**: Too small (73 rows) for meaningful analysis\n",
    "- **Lookup Tables**: Will be used for data reconciliation, not primary analysis\n",
    "\n",
    "---\n",
    "\n",
    "## Key Performance Indicators (KPIs)\n",
    "\n",
    "Our analysis will focus on the following KPIs that address housing affordability, socioeconomic equity, and urban quality of life:\n",
    "\n",
    "### 🏠 Housing Market KPIs\n",
    "\n",
    "1. **Average Price per m² by District**\n",
    "   - *Metric*: Mean price/size ratio aggregated by district\n",
    "   - *Purpose*: Housing affordability analysis across Barcelona\n",
    "\n",
    "2. **Price Distribution by Property Type**\n",
    "   - *Metric*: Price quartiles for apartments, studios, chalets, etc.\n",
    "   - *Purpose*: Market segmentation and diversity analysis\n",
    "\n",
    "3. **Property Availability by Neighborhood**\n",
    "   - *Metric*: Count of listings per neighborhood\n",
    "   - *Purpose*: Market supply and demand patterns\n",
    "\n",
    "### 💰 Socioeconomic KPIs\n",
    "\n",
    "4. **Income Inequality Index**\n",
    "   - *Metric*: Coefficient of variation of \"Índex RFD Barcelona = 100\"\n",
    "   - *Purpose*: Measure income disparity across districts\n",
    "\n",
    "5. **Housing Affordability Ratio**\n",
    "   - *Metric*: Median property price vs. median income by district\n",
    "   - *Purpose*: Identify areas where housing is financially accessible\n",
    "\n",
    "6. **Economic Accessibility Score**\n",
    "   - *Metric*: Normalized income index vs. property price correlation\n",
    "   - *Purpose*: Understand if expensive areas align with high-income areas\n",
    "\n",
    "### 🎭 Cultural Accessibility KPIs\n",
    "\n",
    "7. **Cultural Density by District**\n",
    "   - *Metric*: Number of cultural sites per 1000 residents by district\n",
    "   - *Purpose*: Measure cultural resource distribution and accessibility\n",
    "\n",
    "8. **Cultural-Economic Correlation**\n",
    "   - *Metric*: Correlation coefficient between cultural site density and income levels\n",
    "   - *Purpose*: Analyze if cultural amenities concentrate in affluent areas\n",
    "\n",
    "### 📊 Composite KPIs\n",
    "\n",
    "9. **Neighborhood Attractiveness Score**\n",
    "   - *Metric*: Weighted composite of price, income, and cultural amenities\n",
    "   - *Purpose*: Rank neighborhoods by overall desirability\n",
    "\n",
    "10. **Spatial Equity Index**\n",
    "    - *Metric*: Distribution equality of amenities across income quintiles\n",
    "    - *Purpose*: Measure urban planning equity and resource allocation\n",
    "\n",
    "---\n",
    "\n",
    "## Analysis Objectives\n",
    "\n",
    "These KPIs will enable us to:\n",
    "\n",
    "- **Descriptive Analysis**: Understand current housing market patterns and socioeconomic distribution\n",
    "- **Spatial Analysis**: Identify geographic clusters of affordability, income, and cultural resources  \n",
    "- **Equity Assessment**: Evaluate whether city resources are distributed fairly across income levels\n",
    "- **Policy Insights**: Provide data-driven recommendations for urban planning and housing policy\n",
    "\n",
    "The selected datasets complement each other well, providing both detailed transactional data (Idealista) and contextual socioeconomic information (Income, Cultural Sites) necessary for comprehensive urban analytics."
   ]
  }
 ],
 "metadata": {
  "kernelspec": {
   "display_name": "pyspark_env",
   "language": "python",
   "name": "python3"
  },
  "language_info": {
   "codemirror_mode": {
    "name": "ipython",
    "version": 3
   },
   "file_extension": ".py",
   "mimetype": "text/x-python",
   "name": "python",
   "nbconvert_exporter": "python",
   "pygments_lexer": "ipython3",
   "version": "3.13.5"
  }
 },
 "nbformat": 4,
 "nbformat_minor": 5
}
