{
 "cells": [
  {
   "cell_type": "code",
   "execution_count": 1,
   "id": "113833a7",
   "metadata": {},
   "outputs": [],
   "source": [
    "import os\n",
    "import sys\n",
    "\n",
    "from pathlib import Path\n",
    "\n",
    "import deltalake as dl\n",
    "import polars as pl\n",
    "\n",
    "sys.path.append(os.path.abspath(os.path.join(\"..\")))\n",
    "\n",
    "from utils.eda_dashboard import inspect_dataframe_interactive\n",
    "\n",
    "DATA_PATH = Path(\"../../exploitation_zone\")"
   ]
  },
  {
   "cell_type": "code",
   "execution_count": 2,
   "id": "16f98eea",
   "metadata": {},
   "outputs": [
    {
     "name": "stdout",
     "output_type": "stream",
     "text": [
      "cultural_neighborhood_analytics\n",
      "integrated_analytics\n",
      "cultural_district_analytics\n",
      "socioeconomic_neighborhood_analytics\n",
      "property_type_analytics\n",
      "cultural_category_analytics\n",
      "property_analytics\n",
      "income_quintiles\n",
      "socioeconomic_district_analytics\n"
     ]
    }
   ],
   "source": [
    "dfs = []\n",
    "for folder in DATA_PATH.glob(\"*\"):\n",
    "    print(folder.name)\n",
    "    dt = dl.DeltaTable(str(DATA_PATH / folder.name))\n",
    "    df = pl.from_arrow(dt.to_pyarrow_table())\n",
    "    dfs.append(df)\n",
    "    globals()[f\"df_{folder.name}\"] = df"
   ]
  },
  {
   "cell_type": "code",
   "execution_count": null,
   "id": "e3481bcb",
   "metadata": {},
   "outputs": [],
   "source": []
  }
 ],
 "metadata": {
  "kernelspec": {
   "display_name": ".venv",
   "language": "python",
   "name": "python3"
  },
  "language_info": {
   "codemirror_mode": {
    "name": "ipython",
    "version": 3
   },
   "file_extension": ".py",
   "mimetype": "text/x-python",
   "name": "python",
   "nbconvert_exporter": "python",
   "pygments_lexer": "ipython3",
   "version": "3.13.5"
  }
 },
 "nbformat": 4,
 "nbformat_minor": 5
}
