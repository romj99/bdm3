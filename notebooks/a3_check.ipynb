{
 "cells": [
  {
   "cell_type": "markdown",
   "id": "ce3c5c95",
   "metadata": {},
   "source": [
    "# Sanity check on A3\n",
    "\n",
    "This notebook is a sanity check on the A3 datasets. It checks that the datasets are well-formed and that the data is consistent. This can only be run after the code in [`a3.py`](/src/airflow/dags/pipelines/a3.py) has been run.\n",
    "\n",
    "**Note**: \n",
    "- This corresponds to the data validation step in the A3 pipeline that can be accessed in the streamlit application.\n",
    "- The code in this notebook uses plotly graphs, which might not render correctly if you opem the notebook for the first time. The code may need to be run once to render the graphs correctly."
   ]
  },
  {
   "cell_type": "code",
   "execution_count": 1,
   "id": "113833a7",
   "metadata": {},
   "outputs": [],
   "source": [
    "import os\n",
    "import sys\n",
    "\n",
    "from pathlib import Path\n",
    "\n",
    "import deltalake as dl\n",
    "import polars as pl\n",
    "\n",
    "sys.path.append(os.path.abspath(os.path.join(\"..\")))\n",
    "\n",
    "from src.utils.eda_dashboard import inspect_dataframe_interactive\n",
    "\n",
    "DATA_PATH = Path(\"../data_zones/03_exploitation\")"
   ]
  },
  {
   "cell_type": "code",
   "execution_count": null,
   "id": "16f98eea",
   "metadata": {},
   "outputs": [
    {
     "name": "stdout",
     "output_type": "stream",
     "text": [
      "cultural_category_analytics\n",
      "cultural_district_analytics\n",
      "cultural_neighborhood_analytics\n",
      "income_quintiles\n",
      "integrated_analytics\n",
      "property_analytics\n",
      "property_type_analytics\n",
      "socioeconomic_district_analytics\n",
      "socioeconomic_neighborhood_analytics\n"
     ]
    }
   ],
   "source": [
    "dfs = []\n",
    "for folder in DATA_PATH.glob(\"*_*\"): # Ignore .gitkeep\n",
    "    print(folder.name)\n",
    "    dt = dl.DeltaTable(str(DATA_PATH / folder.name))\n",
    "    df = pl.from_arrow(dt.to_pyarrow_table())\n",
    "    dfs.append(df)\n",
    "    globals()[f\"df_{folder.name}\"] = df"
   ]
  },
  {
   "cell_type": "code",
   "execution_count": 4,
   "id": "e3481bcb",
   "metadata": {},
   "outputs": [
    {
     "name": "stdout",
     "output_type": "stream",
     "text": [
      "📊 DATAFRAME - SUMMARY\n",
      "============================================================\n",
      "Shape: 28 rows × 3 columns\n",
      "Memory usage: 0.00 MB\n",
      "\n",
      "Column Types:\n",
      "  Numeric: 1\n",
      "  Categorical: 2\n",
      "  Date: 0\n",
      "  Other: 0\n",
      "\n",
      "Data Quality:\n",
      "  Missing values: 0 (0.00%)\n",
      "  Duplicate rows: 0 (0.00%)\n",
      "\n",
      "💡 Key Insights:\n",
      "  ⚠️  Small dataset\n",
      "Summary overview:\n",
      "shape: (9, 4)\n",
      "┌────────────┬─────────────────────┬──────────────────────┬────────────────┐\n",
      "│ statistic  ┆ district            ┆ category             ┆ category_count │\n",
      "│ ---        ┆ ---                 ┆ ---                  ┆ ---            │\n",
      "│ str        ┆ str                 ┆ str                  ┆ f64            │\n",
      "╞════════════╪═════════════════════╪══════════════════════╪════════════════╡\n",
      "│ count      ┆ 28                  ┆ 28                   ┆ 28.0           │\n",
      "│ null_count ┆ 0                   ┆ 0                    ┆ 0.0            │\n",
      "│ mean       ┆ null                ┆ null                 ┆ 21.107143      │\n",
      "│ std        ┆ null                ┆ null                 ┆ 23.633528      │\n",
      "│ min        ┆ Ciutat Vella        ┆ Informació d'interès ┆ 1.0            │\n",
      "│ 25%        ┆ null                ┆ null                 ┆ 4.0            │\n",
      "│ 50%        ┆ null                ┆ null                 ┆ 8.0            │\n",
      "│ 75%        ┆ null                ┆ null                 ┆ 33.0           │\n",
      "│ max        ┆ Sarrià-Sant Gervasi ┆ Variables            ┆ 82.0           │\n",
      "└────────────┴─────────────────────┴──────────────────────┴────────────────┘\n",
      "\n",
      "============================================================\n"
     ]
    },
    {
     "data": {
      "application/vnd.jupyter.widget-view+json": {
       "model_id": "4aac46ef11e24dc58aee7425a397573b",
       "version_major": 2,
       "version_minor": 0
      },
      "text/plain": [
       "VBox(children=(VBox(children=(HTML(value='<h3>🔍 Interactive DataFrame Inspector</h3>'), HBox(children=(Dropdow…"
      ]
     },
     "metadata": {},
     "output_type": "display_data"
    },
    {
     "name": "stdout",
     "output_type": "stream",
     "text": [
      "📊 DATAFRAME - SUMMARY\n",
      "============================================================\n",
      "Shape: 10 rows × 7 columns\n",
      "Memory usage: 0.00 MB\n",
      "\n",
      "Column Types:\n",
      "  Numeric: 5\n",
      "  Categorical: 2\n",
      "  Date: 0\n",
      "  Other: 0\n",
      "\n",
      "Data Quality:\n",
      "  Missing values: 0 (0.00%)\n",
      "  Duplicate rows: 0 (0.00%)\n",
      "\n",
      "💡 Key Insights:\n",
      "  ⚠️  Small dataset\n",
      "Summary overview:\n",
      "shape: (9, 8)\n",
      "┌────────────┬─────────────────────┬────────────────┬──────────────────────┬───────────────────┬───────────────────────┬──────────────────┬─────────────────────────────────┐\n",
      "│ statistic  ┆ district            ┆ analysis_level ┆ total_cultural_sites ┆ unique_categories ┆ unique_facility_types ┆ total_population ┆ cultural_sites_per_1000_reside… │\n",
      "│ ---        ┆ ---                 ┆ ---            ┆ ---                  ┆ ---               ┆ ---                   ┆ ---              ┆ ---                             │\n",
      "│ str        ┆ str                 ┆ str            ┆ f64                  ┆ f64               ┆ f64                   ┆ f64              ┆ f64                             │\n",
      "╞════════════╪═════════════════════╪════════════════╪══════════════════════╪═══════════════════╪═══════════════════════╪══════════════════╪═════════════════════════════════╡\n",
      "│ count      ┆ 10                  ┆ 10             ┆ 10.0                 ┆ 10.0              ┆ 10.0                  ┆ 10.0             ┆ 10.0                            │\n",
      "│ null_count ┆ 0                   ┆ 0              ┆ 0.0                  ┆ 0.0               ┆ 0.0                   ┆ 0.0              ┆ 0.0                             │\n",
      "│ mean       ┆ null                ┆ null           ┆ 87.1                 ┆ 2.8               ┆ 56.9                  ┆ 162513.7         ┆ 0.624                           │\n",
      "│ std        ┆ null                ┆ null           ┆ 33.824547            ┆ 0.788811          ┆ 21.205083             ┆ 56743.289491     ┆ 0.370681                        │\n",
      "│ min        ┆ Ciutat Vella        ┆ district       ┆ 29.0                 ┆ 1.0               ┆ 20.0                  ┆ 82201.0          ┆ 0.17                            │\n",
      "│ 25%        ┆ null                ┆ null           ┆ 60.0                 ┆ 3.0               ┆ 42.0                  ┆ 121566.0         ┆ 0.31                            │\n",
      "│ 50%        ┆ null                ┆ null           ┆ 91.0                 ┆ 3.0               ┆ 60.0                  ┆ 166805.0         ┆ 0.66                            │\n",
      "│ 75%        ┆ null                ┆ null           ┆ 119.0                ┆ 3.0               ┆ 72.0                  ┆ 182354.0         ┆ 0.91                            │\n",
      "│ max        ┆ Sarrià-Sant Gervasi ┆ district       ┆ 135.0                ┆ 4.0               ┆ 90.0                  ┆ 267184.0         ┆ 1.21                            │\n",
      "└────────────┴─────────────────────┴────────────────┴──────────────────────┴───────────────────┴───────────────────────┴──────────────────┴─────────────────────────────────┘\n",
      "\n",
      "============================================================\n"
     ]
    },
    {
     "data": {
      "application/vnd.jupyter.widget-view+json": {
       "model_id": "a84828a1ba62479e8af162709cef7a7c",
       "version_major": 2,
       "version_minor": 0
      },
      "text/plain": [
       "VBox(children=(VBox(children=(HTML(value='<h3>🔍 Interactive DataFrame Inspector</h3>'), HBox(children=(Dropdow…"
      ]
     },
     "metadata": {},
     "output_type": "display_data"
    },
    {
     "name": "stdout",
     "output_type": "stream",
     "text": [
      "📊 DATAFRAME - SUMMARY\n",
      "============================================================\n",
      "Shape: 68 rows × 8 columns\n",
      "Memory usage: 0.00 MB\n",
      "\n",
      "Column Types:\n",
      "  Numeric: 5\n",
      "  Categorical: 3\n",
      "  Date: 0\n",
      "  Other: 0\n",
      "\n",
      "Data Quality:\n",
      "  Missing values: 1 (0.18%)\n",
      "  Duplicate rows: 0 (0.00%)\n",
      "\n",
      "💡 Key Insights:\n",
      "  ⚠️  Small dataset\n",
      "Summary overview:\n",
      "shape: (9, 9)\n",
      "┌────────────┬─────────────────────┬─────────────────┬────────────────┬──────────────────────┬───────────────────┬───────────────────────┬──────────────┬─────────────────────────────────┐\n",
      "│ statistic  ┆ district            ┆ neighborhood    ┆ analysis_level ┆ total_cultural_sites ┆ unique_categories ┆ unique_facility_types ┆ population   ┆ cultural_sites_per_1000_reside… │\n",
      "│ ---        ┆ ---                 ┆ ---             ┆ ---            ┆ ---                  ┆ ---               ┆ ---                   ┆ ---          ┆ ---                             │\n",
      "│ str        ┆ str                 ┆ str             ┆ str            ┆ f64                  ┆ f64               ┆ f64                   ┆ f64          ┆ f64                             │\n",
      "╞════════════╪═════════════════════╪═════════════════╪════════════════╪══════════════════════╪═══════════════════╪═══════════════════════╪══════════════╪═════════════════════════════════╡\n",
      "│ count      ┆ 68                  ┆ 68              ┆ 68             ┆ 68.0                 ┆ 68.0              ┆ 68.0                  ┆ 67.0         ┆ 68.0                            │\n",
      "│ null_count ┆ 0                   ┆ 0               ┆ 0              ┆ 0.0                  ┆ 0.0               ┆ 0.0                   ┆ 1.0          ┆ 0.0                             │\n",
      "│ mean       ┆ null                ┆ null            ┆ null           ┆ 12.808824            ┆ 1.617647          ┆ 8.441176              ┆ 22418.880597 ┆ 0.72                            │\n",
      "│ std        ┆ null                ┆ null            ┆ null           ┆ 16.15065             ┆ 0.829123          ┆ 9.590702              ┆ 14946.139602 ┆ 0.894629                        │\n",
      "│ min        ┆ Ciutat Vella        ┆ Baró de Viver   ┆ neighborhood   ┆ 1.0                  ┆ 0.0               ┆ 0.0                   ┆ 611.0        ┆ 0.0                             │\n",
      "│ 25%        ┆ null                ┆ null            ┆ null           ┆ 3.0                  ┆ 1.0               ┆ 2.0                   ┆ 10422.0      ┆ 0.2                             │\n",
      "│ 50%        ┆ null                ┆ null            ┆ null           ┆ 7.0                  ┆ 2.0               ┆ 5.0                   ┆ 20649.0      ┆ 0.38                            │\n",
      "│ 75%        ┆ null                ┆ null            ┆ null           ┆ 13.0                 ┆ 2.0               ┆ 10.0                  ┆ 31583.0      ┆ 0.94                            │\n",
      "│ max        ┆ Sarrià-Sant Gervasi ┆ les Tres Torres ┆ neighborhood   ┆ 87.0                 ┆ 4.0               ┆ 43.0                  ┆ 58315.0      ┆ 4.91                            │\n",
      "└────────────┴─────────────────────┴─────────────────┴────────────────┴──────────────────────┴───────────────────┴───────────────────────┴──────────────┴─────────────────────────────────┘\n",
      "\n",
      "============================================================\n"
     ]
    },
    {
     "data": {
      "application/vnd.jupyter.widget-view+json": {
       "model_id": "3a14e89081444f39a328676c4b52f41f",
       "version_major": 2,
       "version_minor": 0
      },
      "text/plain": [
       "VBox(children=(VBox(children=(HTML(value='<h3>🔍 Interactive DataFrame Inspector</h3>'), HBox(children=(Dropdow…"
      ]
     },
     "metadata": {},
     "output_type": "display_data"
    },
    {
     "name": "stdout",
     "output_type": "stream",
     "text": [
      "📊 DATAFRAME - SUMMARY\n",
      "============================================================\n",
      "Shape: 73 rows × 4 columns\n",
      "Memory usage: 0.00 MB\n",
      "\n",
      "Column Types:\n",
      "  Numeric: 1\n",
      "  Categorical: 3\n",
      "  Date: 0\n",
      "  Other: 0\n",
      "\n",
      "Data Quality:\n",
      "  Missing values: 0 (0.00%)\n",
      "  Duplicate rows: 0 (0.00%)\n",
      "\n",
      "💡 Key Insights:\n",
      "  ⚠️  Small dataset\n",
      "Summary overview:\n",
      "shape: (9, 5)\n",
      "┌────────────┬─────────────────────┬───────────────────┬──────────────────────┬─────────────────┐\n",
      "│ statistic  ┆ district_name       ┆ neighborhood_name ┆ income_index_bcn_100 ┆ income_quintile │\n",
      "│ ---        ┆ ---                 ┆ ---               ┆ ---                  ┆ ---             │\n",
      "│ str        ┆ str                 ┆ str               ┆ f64                  ┆ str             │\n",
      "╞════════════╪═════════════════════╪═══════════════════╪══════════════════════╪═════════════════╡\n",
      "│ count      ┆ 73                  ┆ 73                ┆ 73.0                 ┆ 73              │\n",
      "│ null_count ┆ 0                   ┆ 0                 ┆ 0.0                  ┆ 0               │\n",
      "│ mean       ┆ null                ┆ null              ┆ 93.671233            ┆ null            │\n",
      "│ std        ┆ null                ┆ null              ┆ 42.709775            ┆ null            │\n",
      "│ min        ┆ Ciutat Vella        ┆ Baró de Viver     ┆ 38.6                 ┆ Q1_Lowest       │\n",
      "│ 25%        ┆ null                ┆ null              ┆ 65.1                 ┆ null            │\n",
      "│ 50%        ┆ null                ┆ null              ┆ 82.9                 ┆ null            │\n",
      "│ 75%        ┆ null                ┆ null              ┆ 105.7                ┆ null            │\n",
      "│ max        ┆ Sarrià-Sant Gervasi ┆ les Tres Torres   ┆ 248.8                ┆ Q5_Highest      │\n",
      "└────────────┴─────────────────────┴───────────────────┴──────────────────────┴─────────────────┘\n",
      "\n",
      "============================================================\n"
     ]
    },
    {
     "data": {
      "application/vnd.jupyter.widget-view+json": {
       "model_id": "fe7aa70f8049409faaeabe3d0e918f09",
       "version_major": 2,
       "version_minor": 0
      },
      "text/plain": [
       "VBox(children=(VBox(children=(HTML(value='<h3>🔍 Interactive DataFrame Inspector</h3>'), HBox(children=(Dropdow…"
      ]
     },
     "metadata": {},
     "output_type": "display_data"
    },
    {
     "name": "stdout",
     "output_type": "stream",
     "text": [
      "📊 DATAFRAME - SUMMARY\n",
      "============================================================\n",
      "Shape: 14 rows × 17 columns\n",
      "Memory usage: 0.00 MB\n",
      "\n",
      "Column Types:\n",
      "  Numeric: 12\n",
      "  Categorical: 4\n",
      "  Date: 1\n",
      "  Other: 0\n",
      "\n",
      "Data Quality:\n",
      "  Missing values: 6 (2.52%)\n",
      "  Duplicate rows: 0 (0.00%)\n",
      "\n",
      "💡 Key Insights:\n",
      "  ⚠️  Small dataset\n",
      "Summary overview:\n",
      "shape: (9, 18)\n",
      "┌────────────┬─────────────────────┬───────────────────────────────┬──────────────────┬───────────────┬──────────────────┬──────────────────┬─────────────────────┬─────────────┬──────────────────────┬──────────────┬──────────────────────┬─────────────────────────────────┬─────────────────┬─────────────────────┬──────────────────────┬──────────────────────┬─────────────────────────────────┐\n",
      "│ statistic  ┆ district            ┆ neighborhood                  ┆ total_properties ┆ avg_price_eur ┆ median_price_eur ┆ avg_price_per_m2 ┆ median_price_per_m2 ┆ avg_size_m2 ┆ income_index_bcn_100 ┆ population   ┆ total_cultural_sites ┆ cultural_sites_per_1000_reside… ┆ income_quintile ┆ affordability_ratio ┆ attractiveness_score ┆ market_accessibility ┆ created_at                      │\n",
      "│ ---        ┆ ---                 ┆ ---                           ┆ ---              ┆ ---           ┆ ---              ┆ ---              ┆ ---                 ┆ ---         ┆ ---                  ┆ ---          ┆ ---                  ┆ ---                             ┆ ---             ┆ ---                 ┆ ---                  ┆ ---                  ┆ ---                             │\n",
      "│ str        ┆ str                 ┆ str                           ┆ f64              ┆ f64           ┆ f64              ┆ f64              ┆ f64                 ┆ f64         ┆ f64                  ┆ f64          ┆ f64                  ┆ f64                             ┆ str             ┆ f64                 ┆ f64                  ┆ str                  ┆ str                             │\n",
      "╞════════════╪═════════════════════╪═══════════════════════════════╪══════════════════╪═══════════════╪══════════════════╪══════════════════╪═════════════════════╪═════════════╪══════════════════════╪══════════════╪══════════════════════╪═════════════════════════════════╪═════════════════╪═════════════════════╪══════════════════════╪══════════════════════╪═════════════════════════════════╡\n",
      "│ count      ┆ 14                  ┆ 14                            ┆ 14.0             ┆ 14.0          ┆ 14.0             ┆ 14.0             ┆ 14.0                ┆ 14.0        ┆ 14.0                 ┆ 14.0         ┆ 12.0                 ┆ 12.0                            ┆ 14              ┆ 14.0                ┆ 12.0                 ┆ 14                   ┆ 14                              │\n",
      "│ null_count ┆ 0                   ┆ 0                             ┆ 0.0              ┆ 0.0           ┆ 0.0              ┆ 0.0              ┆ 0.0                 ┆ 0.0         ┆ 0.0                  ┆ 0.0          ┆ 2.0                  ┆ 2.0                             ┆ 0               ┆ 0.0                 ┆ 2.0                  ┆ 0                    ┆ 0                               │\n",
      "│ mean       ┆ null                ┆ null                          ┆ 153.714286       ┆ 575128.155    ┆ 455635.714286    ┆ 4004.837143      ┆ 3945.071429         ┆ 126.828571  ┆ 108.657143           ┆ 26395.142857 ┆ 15.333333            ┆ 0.605833                        ┆ null            ┆ 3.863571            ┆ 47.430833            ┆ null                 ┆ 2025-06-22 09:46:00.958392+00:… │\n",
      "│ std        ┆ null                ┆ null                          ┆ 169.491742       ┆ 563611.116772 ┆ 355130.350082    ┆ 1350.794855      ┆ 1276.611348         ┆ 78.193531   ┆ 60.091363            ┆ 14692.529556 ┆ 17.747386            ┆ 0.730858                        ┆ null            ┆ 0.992647            ┆ 17.583048            ┆ null                 ┆ null                            │\n",
      "│ min        ┆ Eixample            ┆ Canyelles                     ┆ 1.0              ┆ 157250.0      ┆ 135000.0         ┆ 2237.5           ┆ 2211.0              ┆ 63.0        ┆ 51.3                 ┆ 6863.0       ┆ 1.0                  ┆ 0.08                            ┆ Q1_Lowest       ┆ 2.63                ┆ 31.35                ┆ High                 ┆ 2025-06-22 09:46:00.958393+00:… │\n",
      "│ 25%        ┆ null                ┆ null                          ┆ 4.0              ┆ 252820.39     ┆ 228000.0         ┆ 2916.17          ┆ 2803.0              ┆ 73.0        ┆ 64.4                 ┆ 15615.0      ┆ 5.0                  ┆ 0.16                            ┆ null            ┆ 2.95                ┆ 35.62                ┆ null                 ┆ 2025-06-22 09:46:00.958393+00:… │\n",
      "│ 50%        ┆ null                ┆ null                          ┆ 145.0            ┆ 338708.46     ┆ 309000.0         ┆ 3670.26          ┆ 3614.0              ┆ 98.8        ┆ 99.0                 ┆ 25046.0      ┆ 13.0                 ┆ 0.32                            ┆ null            ┆ 3.79                ┆ 41.74                ┆ null                 ┆ 2025-06-22 09:46:00.958393+00:… │\n",
      "│ 75%        ┆ null                ┆ null                          ┆ 266.0            ┆ 522389.47     ┆ 450000.0         ┆ 4905.0           ┆ 4905.0              ┆ 165.0       ┆ 112.5                ┆ 38412.0      ┆ 14.0                 ┆ 0.9                             ┆ null            ┆ 4.62                ┆ 45.28                ┆ null                 ┆ 2025-06-22 09:46:00.958393+00:… │\n",
      "│ max        ┆ Sarrià-Sant Gervasi ┆ Vilapicina i la Torre Llobeta ┆ 478.0            ┆ 1.8302e6      ┆ 1.15e6           ┆ 6331.71          ┆ 6068.0              ┆ 304.1       ┆ 248.8                ┆ 57223.0      ┆ 62.0                 ┆ 2.56                            ┆ Q5_Highest      ┆ 5.94                ┆ 88.64                ┆ Medium               ┆ 2025-06-22 09:46:00.958393+00:… │\n",
      "└────────────┴─────────────────────┴───────────────────────────────┴──────────────────┴───────────────┴──────────────────┴──────────────────┴─────────────────────┴─────────────┴──────────────────────┴──────────────┴──────────────────────┴─────────────────────────────────┴─────────────────┴─────────────────────┴──────────────────────┴──────────────────────┴─────────────────────────────────┘\n",
      "\n",
      "============================================================\n"
     ]
    },
    {
     "data": {
      "application/vnd.jupyter.widget-view+json": {
       "model_id": "998ca32c1c23403eb0fc9751e75e0508",
       "version_major": 2,
       "version_minor": 0
      },
      "text/plain": [
       "VBox(children=(VBox(children=(HTML(value='<h3>🔍 Interactive DataFrame Inspector</h3>'), HBox(children=(Dropdow…"
      ]
     },
     "metadata": {},
     "output_type": "display_data"
    },
    {
     "name": "stdout",
     "output_type": "stream",
     "text": [
      "📊 DATAFRAME - SUMMARY\n",
      "============================================================\n",
      "Shape: 85 rows × 14 columns\n",
      "Memory usage: 0.01 MB\n",
      "\n",
      "Column Types:\n",
      "  Numeric: 10\n",
      "  Categorical: 3\n",
      "  Date: 1\n",
      "  Other: 0\n",
      "\n",
      "Data Quality:\n",
      "  Missing values: 23 (1.93%)\n",
      "  Duplicate rows: 0 (0.00%)\n",
      "\n",
      "💡 Key Insights:\n",
      "  ⚠️  Small dataset\n",
      "Summary overview:\n",
      "shape: (9, 15)\n",
      "┌────────────┬─────────────────────┬───────────────────────────────┬────────────────┬──────────────────┬───────────────┬──────────────────┬──────────────────┬─────────────────────┬─────────────┬───────────┬─────────────────────┬──────────────────┬──────────────────┬─────────────────────────────────┐\n",
      "│ statistic  ┆ district            ┆ neighborhood                  ┆ analysis_level ┆ total_properties ┆ avg_price_eur ┆ median_price_eur ┆ avg_price_per_m2 ┆ median_price_per_m2 ┆ avg_size_m2 ┆ avg_rooms ┆ price_per_m2_stddev ┆ min_price_per_m2 ┆ max_price_per_m2 ┆ created_at                      │\n",
      "│ ---        ┆ ---                 ┆ ---                           ┆ ---            ┆ ---              ┆ ---           ┆ ---              ┆ ---              ┆ ---                 ┆ ---         ┆ ---       ┆ ---                 ┆ ---              ┆ ---              ┆ ---                             │\n",
      "│ str        ┆ str                 ┆ str                           ┆ str            ┆ f64              ┆ f64           ┆ f64              ┆ f64              ┆ f64                 ┆ f64         ┆ f64       ┆ f64                 ┆ f64              ┆ f64              ┆ str                             │\n",
      "╞════════════╪═════════════════════╪═══════════════════════════════╪════════════════╪══════════════════╪═══════════════╪══════════════════╪══════════════════╪═════════════════════╪═════════════╪═══════════╪═════════════════════╪══════════════════╪══════════════════╪═════════════════════════════════╡\n",
      "│ count      ┆ 85                  ┆ 67                            ┆ 85             ┆ 85.0             ┆ 85.0          ┆ 85.0             ┆ 85.0             ┆ 85.0                ┆ 85.0        ┆ 85.0      ┆ 80.0                ┆ 85.0             ┆ 85.0             ┆ 85                              │\n",
      "│ null_count ┆ 0                   ┆ 18                            ┆ 0              ┆ 0.0              ┆ 0.0           ┆ 0.0              ┆ 0.0              ┆ 0.0                 ┆ 0.0         ┆ 0.0       ┆ 5.0                 ┆ 0.0              ┆ 0.0              ┆ 0                               │\n",
      "│ mean       ┆ null                ┆ null                          ┆ null           ┆ 314.023529       ┆ 428909.278824 ┆ 354696.470588    ┆ 3579.241176      ┆ 3423.011765         ┆ 109.609412  ┆ 3.041176  ┆ 891.88975           ┆ 1789.517647      ┆ 6332.776471      ┆ 2025-06-22 09:44:31.179564+00:… │\n",
      "│ std        ┆ null                ┆ null                          ┆ null           ┆ 426.741194       ┆ 361680.281728 ┆ 252532.88303     ┆ 1244.795662      ┆ 1120.773803         ┆ 52.708253   ┆ 0.561311  ┆ 576.429245          ┆ 1050.224393      ┆ 3626.849352      ┆ null                            │\n",
      "│ min        ┆ Bellvitge           ┆ Bellvitge                     ┆ district       ┆ 1.0              ┆ 117250.0      ┆ 112000.0         ┆ 1579.14          ┆ 1692.0              ┆ 61.1        ┆ 2.0       ┆ 0.0                 ┆ 22.0             ┆ 2048.0           ┆ 2025-06-22 09:44:31.179563+00:… │\n",
      "│ 25%        ┆ null                ┆ null                          ┆ null           ┆ 12.0             ┆ 213763.64     ┆ 190000.0         ┆ 2431.64          ┆ 2414.0              ┆ 78.9        ┆ 2.7       ┆ 510.5               ┆ 932.0            ┆ 3898.0           ┆ 2025-06-22 09:44:31.179563+00:… │\n",
      "│ 50%        ┆ null                ┆ null                          ┆ null           ┆ 171.0            ┆ 301909.09     ┆ 269000.0         ┆ 3450.18          ┆ 3322.0              ┆ 88.8        ┆ 3.0       ┆ 768.79              ┆ 1567.0           ┆ 5061.0           ┆ 2025-06-22 09:44:31.179563+00:… │\n",
      "│ 75%        ┆ null                ┆ null                          ┆ null           ┆ 421.0            ┆ 493125.0      ┆ 429000.0         ┆ 4102.37          ┆ 3962.0              ┆ 126.0       ┆ 3.2       ┆ 1096.26             ┆ 2436.0           ┆ 7273.0           ┆ 2025-06-22 09:44:31.179563+00:… │\n",
      "│ max        ┆ Sarrià-Sant Gervasi ┆ Vilapicina i la Torre Llobeta ┆ neighborhood   ┆ 2365.0           ┆ 1.8302e6      ┆ 1.15e6           ┆ 6808.65          ┆ 6068.0              ┆ 318.4       ┆ 4.6       ┆ 2942.1              ┆ 4905.0           ┆ 18433.0          ┆ 2025-06-22 09:44:31.179563+00:… │\n",
      "└────────────┴─────────────────────┴───────────────────────────────┴────────────────┴──────────────────┴───────────────┴──────────────────┴──────────────────┴─────────────────────┴─────────────┴───────────┴─────────────────────┴──────────────────┴──────────────────┴─────────────────────────────────┘\n",
      "\n",
      "============================================================\n"
     ]
    },
    {
     "data": {
      "application/vnd.jupyter.widget-view+json": {
       "model_id": "95eff3837e1a4a84a7a582d88678cc2a",
       "version_major": 2,
       "version_minor": 0
      },
      "text/plain": [
       "VBox(children=(VBox(children=(HTML(value='<h3>🔍 Interactive DataFrame Inspector</h3>'), HBox(children=(Dropdow…"
      ]
     },
     "metadata": {},
     "output_type": "display_data"
    },
    {
     "name": "stdout",
     "output_type": "stream",
     "text": [
      "📊 DATAFRAME - SUMMARY\n",
      "============================================================\n",
      "Shape: 73 rows × 5 columns\n",
      "Memory usage: 0.00 MB\n",
      "\n",
      "Column Types:\n",
      "  Numeric: 3\n",
      "  Categorical: 2\n",
      "  Date: 0\n",
      "  Other: 0\n",
      "\n",
      "Data Quality:\n",
      "  Missing values: 0 (0.00%)\n",
      "  Duplicate rows: 0 (0.00%)\n",
      "\n",
      "💡 Key Insights:\n",
      "  ⚠️  Small dataset\n",
      "Summary overview:\n",
      "shape: (9, 6)\n",
      "┌────────────┬─────────────────────┬───────────────┬────────────┬──────────────────────────┬─────────────────────────────┐\n",
      "│ statistic  ┆ district            ┆ property_type ┆ type_count ┆ avg_price_per_m2_by_type ┆ median_price_per_m2_by_type │\n",
      "│ ---        ┆ ---                 ┆ ---           ┆ ---        ┆ ---                      ┆ ---                         │\n",
      "│ str        ┆ str                 ┆ str           ┆ f64        ┆ f64                      ┆ f64                         │\n",
      "╞════════════╪═════════════════════╪═══════════════╪════════════╪══════════════════════════╪═════════════════════════════╡\n",
      "│ count      ┆ 73                  ┆ 73            ┆ 73.0       ┆ 73.0                     ┆ 73.0                        │\n",
      "│ null_count ┆ 0                   ┆ 0             ┆ 0.0        ┆ 0.0                      ┆ 0.0                         │\n",
      "│ mean       ┆ null                ┆ null          ┆ 182.821918 ┆ 3561.123893              ┆ 3432.136986                 │\n",
      "│ std        ┆ null                ┆ null          ┆ 385.681876 ┆ 1664.612593              ┆ 1621.901262                 │\n",
      "│ min        ┆ Bellvitge           ┆ chalet        ┆ 1.0        ┆ 833.0                    ┆ 833.0                       │\n",
      "│ 25%        ┆ null                ┆ null          ┆ 6.0        ┆ 2267.555556              ┆ 2211.0                      │\n",
      "│ 50%        ┆ null                ┆ null          ┆ 31.0       ┆ 3177.315789              ┆ 3281.0                      │\n",
      "│ 75%        ┆ null                ┆ null          ┆ 93.0       ┆ 4683.847826              ┆ 4154.0                      │\n",
      "│ max        ┆ Sarrià-Sant Gervasi ┆ studio        ┆ 2034.0     ┆ 8373.0                   ┆ 8373.0                      │\n",
      "└────────────┴─────────────────────┴───────────────┴────────────┴──────────────────────────┴─────────────────────────────┘\n",
      "\n",
      "============================================================\n"
     ]
    },
    {
     "data": {
      "application/vnd.jupyter.widget-view+json": {
       "model_id": "885be440084e4a54976dc1b8476e5632",
       "version_major": 2,
       "version_minor": 0
      },
      "text/plain": [
       "VBox(children=(VBox(children=(HTML(value='<h3>🔍 Interactive DataFrame Inspector</h3>'), HBox(children=(Dropdow…"
      ]
     },
     "metadata": {},
     "output_type": "display_data"
    },
    {
     "name": "stdout",
     "output_type": "stream",
     "text": [
      "📊 DATAFRAME - SUMMARY\n",
      "============================================================\n",
      "Shape: 10 rows × 12 columns\n",
      "Memory usage: 0.00 MB\n",
      "\n",
      "Column Types:\n",
      "  Numeric: 10\n",
      "  Categorical: 2\n",
      "  Date: 0\n",
      "  Other: 0\n",
      "\n",
      "Data Quality:\n",
      "  Missing values: 0 (0.00%)\n",
      "  Duplicate rows: 0 (0.00%)\n",
      "\n",
      "💡 Key Insights:\n",
      "  ⚠️  Small dataset\n",
      "Summary overview:\n",
      "shape: (9, 13)\n",
      "┌────────────┬─────────────────────┬───────────────┬────────────────────┬──────────────────┬─────────────────────┬──────────────────────────┬──────────────────┬──────────────────┬──────────────────┬─────────────────────────────┬──────────────────────┬────────────────┐\n",
      "│ statistic  ┆ district_name       ┆ district_code ┆ neighborhood_count ┆ avg_income_index ┆ median_income_index ┆ income_inequality_stddev ┆ min_income_index ┆ max_income_index ┆ total_population ┆ avg_neighborhood_population ┆ income_inequality_cv ┆ analysis_level │\n",
      "│ ---        ┆ ---                 ┆ ---           ┆ ---                ┆ ---              ┆ ---                 ┆ ---                      ┆ ---              ┆ ---              ┆ ---              ┆ ---                         ┆ ---                  ┆ ---            │\n",
      "│ str        ┆ str                 ┆ f64           ┆ f64                ┆ f64              ┆ f64                 ┆ f64                      ┆ f64              ┆ f64              ┆ f64              ┆ f64                         ┆ f64                  ┆ str            │\n",
      "╞════════════╪═════════════════════╪═══════════════╪════════════════════╪══════════════════╪═════════════════════╪══════════════════════════╪══════════════════╪══════════════════╪══════════════════╪═════════════════════════════╪══════════════════════╪════════════════╡\n",
      "│ count      ┆ 10                  ┆ 10.0          ┆ 10.0               ┆ 10.0             ┆ 10.0                ┆ 10.0                     ┆ 10.0             ┆ 10.0             ┆ 10.0             ┆ 10.0                        ┆ 10.0                 ┆ 10             │\n",
      "│ null_count ┆ 0                   ┆ 0.0           ┆ 0.0                ┆ 0.0              ┆ 0.0                 ┆ 0.0                      ┆ 0.0              ┆ 0.0              ┆ 0.0              ┆ 0.0                         ┆ 0.0                  ┆ 0              │\n",
      "│ mean       ┆ null                ┆ 5.5           ┆ 7.3                ┆ 103.583652       ┆ 97.09               ┆ 24.599856                ┆ 75.52            ┆ 136.41           ┆ 162513.7         ┆ 24248.370688                ┆ 22.128               ┆ null           │\n",
      "│ std        ┆ null                ┆ 3.02765       ┆ 3.198958           ┆ 40.127449        ┆ 36.277463           ┆ 20.438208                ┆ 35.387437        ┆ 61.458811        ┆ 56743.289491     ┆ 8465.353399                 ┆ 11.64038             ┆ null           │\n",
      "│ min        ┆ Ciutat Vella        ┆ 1.0           ┆ 3.0                ┆ 51.446154        ┆ 51.5                ┆ 7.426261                 ┆ 38.6             ┆ 64.4             ┆ 82201.0          ┆ 12831.153846                ┆ 9.61                 ┆ district       │\n",
      "│ 25%        ┆ null                ┆ 3.0           ┆ 5.0                ┆ 79.05            ┆ 79.6                ┆ 11.682853                ┆ 47.1             ┆ 95.8             ┆ 121566.0         ┆ 21099.0                     ┆ 14.44                ┆ null           │\n",
      "│ 50%        ┆ null                ┆ 6.0           ┆ 7.0                ┆ 96.7             ┆ 83.6                ┆ 18.687352                ┆ 71.2             ┆ 112.5            ┆ 166805.0         ┆ 24313.2                     ┆ 18.4                 ┆ null           │\n",
      "│ 75%        ┆ null                ┆ 8.0           ┆ 10.0               ┆ 122.633333       ┆ 106.5               ┆ 29.114303                ┆ 101.8            ┆ 175.9            ┆ 182354.0         ┆ 25562.5                     ┆ 23.74                ┆ null           │\n",
      "│ max        ┆ Sarrià-Sant Gervasi ┆ 10.0          ┆ 13.0               ┆ 179.133333       ┆ 184.6               ┆ 76.092312                ┆ 144.1            ┆ 248.8            ┆ 267184.0         ┆ 44530.666667                ┆ 47.26                ┆ district       │\n",
      "└────────────┴─────────────────────┴───────────────┴────────────────────┴──────────────────┴─────────────────────┴──────────────────────────┴──────────────────┴──────────────────┴──────────────────┴─────────────────────────────┴──────────────────────┴────────────────┘\n",
      "\n",
      "============================================================\n"
     ]
    },
    {
     "data": {
      "application/vnd.jupyter.widget-view+json": {
       "model_id": "41715dfe0f9644cc9237ca2746a744c0",
       "version_major": 2,
       "version_minor": 0
      },
      "text/plain": [
       "VBox(children=(VBox(children=(HTML(value='<h3>🔍 Interactive DataFrame Inspector</h3>'), HBox(children=(Dropdow…"
      ]
     },
     "metadata": {},
     "output_type": "display_data"
    },
    {
     "name": "stdout",
     "output_type": "stream",
     "text": [
      "📊 DATAFRAME - SUMMARY\n",
      "============================================================\n",
      "Shape: 73 rows × 8 columns\n",
      "Memory usage: 0.00 MB\n",
      "\n",
      "Column Types:\n",
      "  Numeric: 5\n",
      "  Categorical: 3\n",
      "  Date: 0\n",
      "  Other: 0\n",
      "\n",
      "Data Quality:\n",
      "  Missing values: 0 (0.00%)\n",
      "  Duplicate rows: 0 (0.00%)\n",
      "\n",
      "💡 Key Insights:\n",
      "  ⚠️  Small dataset\n",
      "Summary overview:\n",
      "shape: (9, 9)\n",
      "┌────────────┬─────────────────────┬───────────────────┬───────────────┬───────────────────┬──────────────────────┬──────────────┬───────────┬────────────────┐\n",
      "│ statistic  ┆ district_name       ┆ neighborhood_name ┆ district_code ┆ neighborhood_code ┆ income_index_bcn_100 ┆ population   ┆ data_year ┆ analysis_level │\n",
      "│ ---        ┆ ---                 ┆ ---               ┆ ---           ┆ ---               ┆ ---                  ┆ ---          ┆ ---       ┆ ---            │\n",
      "│ str        ┆ str                 ┆ str               ┆ f64           ┆ f64               ┆ f64                  ┆ f64          ┆ f64       ┆ str            │\n",
      "╞════════════╪═════════════════════╪═══════════════════╪═══════════════╪═══════════════════╪══════════════════════╪══════════════╪═══════════╪════════════════╡\n",
      "│ count      ┆ 73                  ┆ 73                ┆ 73.0          ┆ 73.0              ┆ 73.0                 ┆ 73.0         ┆ 73.0      ┆ 73             │\n",
      "│ null_count ┆ 0                   ┆ 0                 ┆ 0.0           ┆ 0.0               ┆ 0.0                  ┆ 0.0          ┆ 0.0       ┆ 0              │\n",
      "│ mean       ┆ null                ┆ null              ┆ 6.246575      ┆ 37.0              ┆ 93.671233            ┆ 22262.150685 ┆ 2017.0    ┆ null           │\n",
      "│ std        ┆ null                ┆ null              ┆ 2.807633      ┆ 21.217131         ┆ 42.709775            ┆ 14664.585752 ┆ 0.0       ┆ null           │\n",
      "│ min        ┆ Ciutat Vella        ┆ Baró de Viver     ┆ 1.0           ┆ 1.0               ┆ 38.6                 ┆ 611.0        ┆ 2017.0    ┆ neighborhood   │\n",
      "│ 25%        ┆ null                ┆ null              ┆ 4.0           ┆ 19.0              ┆ 65.1                 ┆ 10422.0      ┆ 2017.0    ┆ null           │\n",
      "│ 50%        ┆ null                ┆ null              ┆ 7.0           ┆ 37.0              ┆ 82.9                 ┆ 20649.0      ┆ 2017.0    ┆ null           │\n",
      "│ 75%        ┆ null                ┆ null              ┆ 8.0           ┆ 55.0              ┆ 105.7                ┆ 30622.0      ┆ 2017.0    ┆ null           │\n",
      "│ max        ┆ Sarrià-Sant Gervasi ┆ les Tres Torres   ┆ 10.0          ┆ 73.0              ┆ 248.8                ┆ 58315.0      ┆ 2017.0    ┆ neighborhood   │\n",
      "└────────────┴─────────────────────┴───────────────────┴───────────────┴───────────────────┴──────────────────────┴──────────────┴───────────┴────────────────┘\n",
      "\n",
      "============================================================\n"
     ]
    },
    {
     "data": {
      "application/vnd.jupyter.widget-view+json": {
       "model_id": "3aa1c511d8714f82a09bb7e4d1740b7f",
       "version_major": 2,
       "version_minor": 0
      },
      "text/plain": [
       "VBox(children=(VBox(children=(HTML(value='<h3>🔍 Interactive DataFrame Inspector</h3>'), HBox(children=(Dropdow…"
      ]
     },
     "metadata": {},
     "output_type": "display_data"
    }
   ],
   "source": [
    "for df in dfs:\n",
    "    inspect_dataframe_interactive(df)"
   ]
  }
 ],
 "metadata": {
  "kernelspec": {
   "display_name": "pyspark_env1",
   "language": "python",
   "name": "python3"
  },
  "language_info": {
   "codemirror_mode": {
    "name": "ipython",
    "version": 3
   },
   "file_extension": ".py",
   "mimetype": "text/x-python",
   "name": "python",
   "nbconvert_exporter": "python",
   "pygments_lexer": "ipython3",
   "version": "3.10.18"
  }
 },
 "nbformat": 4,
 "nbformat_minor": 5
}
