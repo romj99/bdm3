{
 "cells": [
  {
   "cell_type": "code",
   "execution_count": 1,
   "id": "113833a7",
   "metadata": {},
   "outputs": [],
   "source": [
    "import os\n",
    "import sys\n",
    "\n",
    "from pathlib import Path\n",
    "\n",
    "import deltalake as dl\n",
    "import polars as pl\n",
    "\n",
    "sys.path.append(os.path.abspath(os.path.join(\"..\")))\n",
    "\n",
    "from utils.eda_dashboard import inspect_dataframe_interactive\n",
    "\n",
    "DATA_PATH = Path(\"../../formatted_zone\")"
   ]
  },
  {
   "cell_type": "code",
   "execution_count": 2,
   "id": "0ef62c7b",
   "metadata": {},
   "outputs": [],
   "source": [
    "# Read using deltalake first, then convert to polars (Otherwise type conversion errors)\n",
    "dt_income = dl.DeltaTable(str(DATA_PATH / \"income\"))\n",
    "df_income = pl.from_arrow(dt_income.to_pyarrow_table())"
   ]
  },
  {
   "cell_type": "code",
   "execution_count": 3,
   "id": "f491d158",
   "metadata": {},
   "outputs": [
    {
     "name": "stdout",
     "output_type": "stream",
     "text": [
      "📊 DATAFRAME - SUMMARY\n",
      "============================================================\n",
      "Shape: 811 rows × 9 columns\n",
      "Memory usage: 0.05 MB\n",
      "\n",
      "Column Types:\n",
      "  Numeric: 5\n",
      "  Categorical: 3\n",
      "  Date: 1\n",
      "  Other: 0\n",
      "\n",
      "Data Quality:\n",
      "  Missing values: 8 (0.11%)\n",
      "  Duplicate rows: 0 (0.00%)\n",
      "\n",
      "✅ Data appears to be in good shape!\n",
      "Summary overview:\n",
      "shape: (9, 10)\n",
      "┌────────────┬─────────────┬───────────────┬─────────────────────┬───────────────────┬───────────────────┬──────────────┬──────────────────────┬─────────────────────────────────┬────────────────┐\n",
      "│ statistic  ┆ year        ┆ district_code ┆ district_name       ┆ neighborhood_code ┆ neighborhood_name ┆ population   ┆ income_index_bcn_100 ┆ load_timestamp                  ┆ source_dataset │\n",
      "│ ---        ┆ ---         ┆ ---           ┆ ---                 ┆ ---               ┆ ---               ┆ ---          ┆ ---                  ┆ ---                             ┆ ---            │\n",
      "│ str        ┆ f64         ┆ f64           ┆ str                 ┆ f64               ┆ str               ┆ f64          ┆ f64                  ┆ str                             ┆ str            │\n",
      "╞════════════╪═════════════╪═══════════════╪═════════════════════╪═══════════════════╪═══════════════════╪══════════════╪══════════════════════╪═════════════════════════════════╪════════════════╡\n",
      "│ count      ┆ 811.0       ┆ 811.0         ┆ 811                 ┆ 811.0             ┆ 811               ┆ 811.0        ┆ 803.0                ┆ 811                             ┆ 811            │\n",
      "│ null_count ┆ 0.0         ┆ 0.0           ┆ 0                   ┆ 0.0               ┆ 0                 ┆ 0.0          ┆ 8.0                  ┆ 0                               ┆ 0              │\n",
      "│ mean       ┆ 2011.993835 ┆ 7.161529      ┆ null                ┆ 37.611591         ┆ null              ┆ 21943.408138 ┆ 92.588917            ┆ 2025-06-19 19:00:16.160371+00:… ┆ null           │\n",
      "│ std        ┆ 3.158951    ┆ 9.583283      ┆ null                ┆ 21.857582         ┆ null              ┆ 14618.144852 ┆ 40.084215            ┆ null                            ┆ null           │\n",
      "│ min        ┆ 2007.0      ┆ 1.0           ┆ Ciutat Vella        ┆ 1.0               ┆ Baró de Viver     ┆ 1.0          ┆ 34.3                 ┆ 2025-06-19 19:00:16.160371+00:… ┆ income         │\n",
      "│ 25%        ┆ 2009.0      ┆ 4.0           ┆ null                ┆ 19.0              ┆ null              ┆ 10356.0      ┆ 67.6                 ┆ 2025-06-19 19:00:16.160371+00:… ┆ null           │\n",
      "│ 50%        ┆ 2012.0      ┆ 7.0           ┆ null                ┆ 37.0              ┆ null              ┆ 19732.0      ┆ 82.5                 ┆ 2025-06-19 19:00:16.160371+00:… ┆ null           │\n",
      "│ 75%        ┆ 2015.0      ┆ 8.0           ┆ null                ┆ 56.0              ┆ null              ┆ 30290.0      ┆ 103.8                ┆ 2025-06-19 19:00:16.160371+00:… ┆ null           │\n",
      "│ max        ┆ 2017.0      ┆ 99.0          ┆ Sarrià-Sant Gervasi ┆ 99.0              ┆ les Tres Torres   ┆ 58559.0      ┆ 251.7                ┆ 2025-06-19 19:00:16.160371+00:… ┆ income         │\n",
      "└────────────┴─────────────┴───────────────┴─────────────────────┴───────────────────┴───────────────────┴──────────────┴──────────────────────┴─────────────────────────────────┴────────────────┘\n",
      "\n",
      "============================================================\n"
     ]
    },
    {
     "data": {
      "application/vnd.jupyter.widget-view+json": {
       "model_id": "c1b1fbd5d6e74c5fa7d921ded9ecf63d",
       "version_major": 2,
       "version_minor": 0
      },
      "text/plain": [
       "VBox(children=(VBox(children=(HTML(value='<h3>🔍 Interactive DataFrame Inspector</h3>'), HBox(children=(Dropdow…"
      ]
     },
     "metadata": {},
     "output_type": "display_data"
    }
   ],
   "source": [
    "_ = inspect_dataframe_interactive(df_income)"
   ]
  },
  {
   "cell_type": "code",
   "execution_count": 4,
   "id": "2d5da14d",
   "metadata": {},
   "outputs": [],
   "source": [
    "dt_idealista = dl.DeltaTable(str(DATA_PATH / \"idealista\"))\n",
    "df_idealista = pl.from_arrow(dt_idealista.to_pyarrow_table())"
   ]
  },
  {
   "cell_type": "code",
   "execution_count": 5,
   "id": "acaca3d1",
   "metadata": {},
   "outputs": [
    {
     "name": "stdout",
     "output_type": "stream",
     "text": [
      "📊 DATAFRAME - SUMMARY\n",
      "============================================================\n",
      "Shape: 20,928 rows × 22 columns\n",
      "Memory usage: 3.92 MB\n",
      "\n",
      "Column Types:\n",
      "  Numeric: 7\n",
      "  Categorical: 11\n",
      "  Date: 1\n",
      "  Other: 3\n",
      "\n",
      "Data Quality:\n",
      "  Missing values: 12,103 (2.63%)\n",
      "  Duplicate rows: 10,418 (49.78%)\n",
      "\n",
      "💡 Key Insights:\n",
      "  ⚠️  Significant duplicates (49.8%)\n",
      "Summary overview:\n",
      "shape: (9, 23)\n",
      "┌────────────┬───────────────┬─────────────────────────────────┬───────────────────────────────┬───────────────────────────────┬──────────────────┬──────────────┬───────────┬───────────┬───────────────┬─────────────────────────────┬─────────────┬──────────┬───────────┬───────┬────────┬───────────────┬──────────────┬─────────────┬──────────┬─────────────┬─────────────────────────────────┬────────────────┐\n",
      "│ statistic  ┆ property_code ┆ property_url                    ┆ district                      ┆ neighborhood                  ┆ address          ┆ municipality ┆ latitude  ┆ longitude ┆ property_type ┆ detailed_type               ┆ size_m2     ┆ rooms    ┆ bathrooms ┆ floor ┆ status ┆ price_eur     ┆ price_per_m2 ┆ is_exterior ┆ has_lift ┆ has_parking ┆ load_timestamp                  ┆ source_dataset │\n",
      "│ ---        ┆ ---           ┆ ---                             ┆ ---                           ┆ ---                           ┆ ---              ┆ ---          ┆ ---       ┆ ---       ┆ ---           ┆ ---                         ┆ ---         ┆ ---      ┆ ---       ┆ ---   ┆ ---    ┆ ---           ┆ ---          ┆ ---         ┆ ---      ┆ ---         ┆ ---                             ┆ ---            │\n",
      "│ str        ┆ str           ┆ str                             ┆ str                           ┆ str                           ┆ str              ┆ str          ┆ f64       ┆ f64       ┆ str           ┆ str                         ┆ f64         ┆ f64      ┆ f64       ┆ str   ┆ str    ┆ f64           ┆ f64          ┆ f64         ┆ f64      ┆ f64         ┆ str                             ┆ str            │\n",
      "╞════════════╪═══════════════╪═════════════════════════════════╪═══════════════════════════════╪═══════════════════════════════╪══════════════════╪══════════════╪═══════════╪═══════════╪═══════════════╪═════════════════════════════╪═════════════╪══════════╪═══════════╪═══════╪════════╪═══════════════╪══════════════╪═════════════╪══════════╪═════════════╪═════════════════════════════════╪════════════════╡\n",
      "│ count      ┆ 20928         ┆ 20928                           ┆ 20928                         ┆ 13297                         ┆ 20928            ┆ 20928        ┆ 20928.0   ┆ 20928.0   ┆ 20928         ┆ 20928                       ┆ 20928.0     ┆ 20928.0  ┆ 20928.0   ┆ 16459 ┆ 20925  ┆ 20928.0       ┆ 20928.0      ┆ 20928.0     ┆ 20928.0  ┆ 20928.0     ┆ 20928                           ┆ 20928          │\n",
      "│ null_count ┆ 0             ┆ 0                               ┆ 0                             ┆ 7631                          ┆ 0                ┆ 0            ┆ 0.0       ┆ 0.0       ┆ 0             ┆ 0                           ┆ 0.0         ┆ 0.0      ┆ 0.0       ┆ 4469  ┆ 3      ┆ 0.0           ┆ 0.0          ┆ 0.0         ┆ 0.0      ┆ 0.0         ┆ 0                               ┆ 0              │\n",
      "│ mean       ┆ null          ┆ null                            ┆ null                          ┆ null                          ┆ null             ┆ null         ┆ 41.375789 ┆ 2.106786  ┆ null          ┆ null                        ┆ 160.817374  ┆ 3.192039 ┆ 1.763714  ┆ null  ┆ null   ┆ 468134.5334   ┆ 3481.239297  ┆ 0.657922    ┆ 0.630543 ┆ 0.199732    ┆ 2025-06-19 19:00:08.717946+00:… ┆ null           │\n",
      "│ std        ┆ null          ┆ null                            ┆ null                          ┆ null                          ┆ null             ┆ null         ┆ 0.032099  ┆ 0.039189  ┆ null          ┆ null                        ┆ 2227.861662 ┆ 1.210157 ┆ 1.109966  ┆ null  ┆ null   ┆ 595588.479742 ┆ 1712.326122  ┆ null        ┆ null     ┆ null        ┆ null                            ┆ null           │\n",
      "│ min        ┆ 1394150       ┆ https://www.idealista.com/inmu… ┆ Almeda                        ┆ Bellvitge                     ┆ 26 DE ENERO s/n  ┆ Barcelona    ┆ 41.295745 ┆ 2.013654  ┆ chalet        ┆ {casaTerrera, countryHouse} ┆ 10.0        ┆ 0.0      ┆ 0.0       ┆ -1    ┆ good   ┆ 34000.0       ┆ 1.0          ┆ 0.0         ┆ 0.0      ┆ 0.0         ┆ 2025-06-19 19:00:08.717946+00:… ┆ idealista      │\n",
      "│ 25%        ┆ null          ┆ null                            ┆ null                          ┆ null                          ┆ null             ┆ null         ┆ 41.361293 ┆ 2.0807359 ┆ null          ┆ null                        ┆ 67.0        ┆ 3.0      ┆ 1.0       ┆ null  ┆ null   ┆ 170000.0      ┆ 2313.0       ┆ null        ┆ null     ┆ null        ┆ 2025-06-19 19:00:08.717946+00:… ┆ null           │\n",
      "│ 50%        ┆ null          ┆ null                            ┆ null                          ┆ null                          ┆ null             ┆ null         ┆ 41.370134 ┆ 2.1109402 ┆ null          ┆ null                        ┆ 87.0        ┆ 3.0      ┆ 1.0       ┆ null  ┆ null   ┆ 275000.0      ┆ 3021.0       ┆ null        ┆ null     ┆ null        ┆ 2025-06-19 19:00:08.717946+00:… ┆ null           │\n",
      "│ 75%        ┆ null          ┆ null                            ┆ null                          ┆ null                          ┆ null             ┆ null         ┆ 41.386096 ┆ 2.136008  ┆ null          ┆ null                        ┆ 126.0       ┆ 4.0      ┆ 2.0       ┆ null  ┆ null   ┆ 490000.0      ┆ 4143.0       ┆ null        ┆ null     ┆ null        ┆ 2025-06-19 19:00:08.717946+00:… ┆ null           │\n",
      "│ max        ┆ 93215144      ┆ https://www.idealista.com/obra… ┆ Zona Estación - Casco Antiguo ┆ Vilapicina i la Torre Llobeta ┆ zona correos s/n ┆ Viladecans   ┆ 41.485005 ┆ 2.1949138 ┆ studio        ┆ {terracedHouse, chalet}     ┆ 144000.0    ┆ 15.0     ┆ 19.0      ┆ st    ┆ renew  ┆ 1.2e7         ┆ 25000.0      ┆ 1.0         ┆ 1.0      ┆ 1.0         ┆ 2025-06-19 19:00:08.717946+00:… ┆ idealista      │\n",
      "└────────────┴───────────────┴─────────────────────────────────┴───────────────────────────────┴───────────────────────────────┴──────────────────┴──────────────┴───────────┴───────────┴───────────────┴─────────────────────────────┴─────────────┴──────────┴───────────┴───────┴────────┴───────────────┴──────────────┴─────────────┴──────────┴─────────────┴─────────────────────────────────┴────────────────┘\n",
      "\n",
      "============================================================\n"
     ]
    },
    {
     "data": {
      "application/vnd.jupyter.widget-view+json": {
       "model_id": "9d2397a38125404487991b2cbdc0eed6",
       "version_major": 2,
       "version_minor": 0
      },
      "text/plain": [
       "VBox(children=(VBox(children=(HTML(value='<h3>🔍 Interactive DataFrame Inspector</h3>'), HBox(children=(Dropdow…"
      ]
     },
     "metadata": {},
     "output_type": "display_data"
    }
   ],
   "source": [
    "_ = inspect_dataframe_interactive(df_idealista)"
   ]
  },
  {
   "cell_type": "code",
   "execution_count": 6,
   "id": "3162ff14",
   "metadata": {},
   "outputs": [],
   "source": [
    "dt_cs = dl.DeltaTable(str(DATA_PATH / \"cultural_sites\"))\n",
    "df_cs = pl.from_arrow(dt_cs.to_pyarrow_table())"
   ]
  },
  {
   "cell_type": "code",
   "execution_count": 7,
   "id": "49464e57",
   "metadata": {},
   "outputs": [
    {
     "name": "stdout",
     "output_type": "stream",
     "text": [
      "📊 DATAFRAME - SUMMARY\n",
      "============================================================\n",
      "Shape: 871 rows × 11 columns\n",
      "Memory usage: 0.11 MB\n",
      "\n",
      "Column Types:\n",
      "  Numeric: 2\n",
      "  Categorical: 8\n",
      "  Date: 1\n",
      "  Other: 0\n",
      "\n",
      "Data Quality:\n",
      "  Missing values: 1,409 (14.71%)\n",
      "  Duplicate rows: 0 (0.00%)\n",
      "\n",
      "💡 Key Insights:\n",
      "  ⚠️  High missing data rate (14.7%)\n",
      "Summary overview:\n",
      "shape: (9, 12)\n",
      "┌────────────┬─────────┬─────────────────────────────────┬──────────────────────────┬─────────────────────┬─────────────────┬──────────┬───────────┬──────────────────────┬────────────────────────┬─────────────────────────────────┬────────────────┐\n",
      "│ statistic  ┆ site_id ┆ facility_name                   ┆ institution_name         ┆ district            ┆ neighborhood    ┆ latitude ┆ longitude ┆ category             ┆ facility_type          ┆ load_timestamp                  ┆ source_dataset │\n",
      "│ ---        ┆ ---     ┆ ---                             ┆ ---                      ┆ ---                 ┆ ---             ┆ ---      ┆ ---       ┆ ---                  ┆ ---                    ┆ ---                             ┆ ---            │\n",
      "│ str        ┆ str     ┆ str                             ┆ str                      ┆ str                 ┆ str             ┆ f64      ┆ f64       ┆ str                  ┆ str                    ┆ str                             ┆ str            │\n",
      "╞════════════╪═════════╪═════════════════════════════════╪══════════════════════════╪═════════════════════╪═════════════════╪══════════╪═══════════╪══════════════════════╪════════════════════════╪═════════════════════════════════╪════════════════╡\n",
      "│ count      ┆ 871     ┆ 871                             ┆ 22                       ┆ 871                 ┆ 871             ┆ 871.0    ┆ 871.0     ┆ 591                  ┆ 591                    ┆ 871                             ┆ 871            │\n",
      "│ null_count ┆ 0       ┆ 0                               ┆ 849                      ┆ 0                   ┆ 0               ┆ 0.0      ┆ 0.0       ┆ 280                  ┆ 280                    ┆ 0                               ┆ 0              │\n",
      "│ mean       ┆ null    ┆ null                            ┆ null                     ┆ null                ┆ null            ┆ 2.160038 ┆ 41.400673 ┆ null                 ┆ null                   ┆ 2025-06-19 19:00:17.504960+00:… ┆ null           │\n",
      "│ std        ┆ null    ┆ null                            ┆ null                     ┆ null                ┆ null            ┆ 0.025457 ┆ 0.02082   ┆ null                 ┆ null                   ┆ null                            ┆ null           │\n",
      "│ min        ┆ 1       ┆ \"\"\"Vivendes\"\" del Congrés Euca… ┆ Barcelona Activa         ┆ Ciutat Vella        ┆ Baró de Viver   ┆ 2.059007 ┆ 41.353039 ┆ Informació d'interès ┆ -                      ┆ 2025-06-19 19:00:17.504960+00:… ┆ cultural_sites │\n",
      "│ 25%        ┆ null    ┆ null                            ┆ null                     ┆ null                ┆ null            ┆ 2.143035 ┆ 41.384547 ┆ null                 ┆ null                   ┆ 2025-06-19 19:00:17.504960+00:… ┆ null           │\n",
      "│ 50%        ┆ null    ┆ null                            ┆ null                     ┆ null                ┆ null            ┆ 2.160232 ┆ 41.399665 ┆ null                 ┆ null                   ┆ 2025-06-19 19:00:17.504960+00:… ┆ null           │\n",
      "│ 75%        ┆ null    ┆ null                            ┆ null                     ┆ null                ┆ null            ┆ 2.17957  ┆ 41.413632 ┆ null                 ┆ null                   ┆ 2025-06-19 19:00:17.504960+00:… ┆ null           │\n",
      "│ max        ┆ 99      ┆ Àntiga Fàbrica de Làmpares Z    ┆ Universitat de Barcelona ┆ Sarrià-Sant Gervasi ┆ les Tres Torres ┆ 2.228124 ┆ 41.464787 ┆ Variables            ┆ zoobarcelona@bsmsa.cat ┆ 2025-06-19 19:00:17.504960+00:… ┆ cultural_sites │\n",
      "└────────────┴─────────┴─────────────────────────────────┴──────────────────────────┴─────────────────────┴─────────────────┴──────────┴───────────┴──────────────────────┴────────────────────────┴─────────────────────────────────┴────────────────┘\n",
      "\n",
      "============================================================\n"
     ]
    },
    {
     "data": {
      "application/vnd.jupyter.widget-view+json": {
       "model_id": "ce296fcbfa3b44d39fe11366fabf0450",
       "version_major": 2,
       "version_minor": 0
      },
      "text/plain": [
       "VBox(children=(VBox(children=(HTML(value='<h3>🔍 Interactive DataFrame Inspector</h3>'), HBox(children=(Dropdow…"
      ]
     },
     "metadata": {},
     "output_type": "display_data"
    }
   ],
   "source": [
    "_ = inspect_dataframe_interactive(df_cs)"
   ]
  }
 ],
 "metadata": {
  "kernelspec": {
   "display_name": "bdm3",
   "language": "python",
   "name": "python3"
  },
  "language_info": {
   "codemirror_mode": {
    "name": "ipython",
    "version": 3
   },
   "file_extension": ".py",
   "mimetype": "text/x-python",
   "name": "python",
   "nbconvert_exporter": "python",
   "pygments_lexer": "ipython3",
   "version": "3.13.5"
  }
 },
 "nbformat": 4,
 "nbformat_minor": 5
}
