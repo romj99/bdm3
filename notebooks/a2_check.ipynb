{
 "cells": [
  {
   "cell_type": "markdown",
   "id": "ddcd1b86",
   "metadata": {},
   "source": [
    "# Sanity check on A2\n",
    "\n",
    "This notebook is a sanity check on the A2 datasets. It checks that the datasets are well-formed and that the data is consistent. This can only be run after the code in [`a2.py`](/src/airflow/dags/pipelines/a2.py) has been run.\n",
    "\n",
    "**Note**: \n",
    "- This corresponds to the data validation step in the A2 pipeline that can be accessed in the streamlit application.\n",
    "- The code in this notebook uses plotly graphs, which might not render correctly if you opem the notebook for the first time. The code may need to be run once to render the graphs correctly."
   ]
  },
  {
   "cell_type": "code",
   "execution_count": 1,
   "id": "113833a7",
   "metadata": {},
   "outputs": [],
   "source": [
    "import os\n",
    "import sys\n",
    "\n",
    "from pathlib import Path\n",
    "\n",
    "import deltalake as dl\n",
    "import polars as pl\n",
    "\n",
    "sys.path.append(os.path.abspath(os.path.join(\"..\")))\n",
    "\n",
    "from src.utils.eda_dashboard import inspect_dataframe_interactive\n",
    "\n",
    "DATA_PATH = Path(\"../data_zones/02_formatted\")"
   ]
  },
  {
   "cell_type": "code",
   "execution_count": 2,
   "id": "0ef62c7b",
   "metadata": {},
   "outputs": [],
   "source": [
    "# Read using deltalake first, then convert to polars (Otherwise type conversion errors)\n",
    "dt_income = dl.DeltaTable(str(DATA_PATH / \"income\"))\n",
    "df_income = pl.from_arrow(dt_income.to_pyarrow_table())"
   ]
  },
  {
   "cell_type": "code",
   "execution_count": 3,
   "id": "f491d158",
   "metadata": {},
   "outputs": [
    {
     "name": "stdout",
     "output_type": "stream",
     "text": [
      "📊 DATAFRAME - SUMMARY\n",
      "============================================================\n",
      "Shape: 811 rows × 9 columns\n",
      "Memory usage: 0.05 MB\n",
      "\n",
      "Column Types:\n",
      "  Numeric: 5\n",
      "  Categorical: 3\n",
      "  Date: 1\n",
      "  Other: 0\n",
      "\n",
      "Data Quality:\n",
      "  Missing values: 8 (0.11%)\n",
      "  Duplicate rows: 0 (0.00%)\n",
      "\n",
      "✅ Data appears to be in good shape!\n",
      "Summary overview:\n",
      "shape: (9, 10)\n",
      "┌────────────┬─────────────┬───────────────┬─────────────────────┬───────────────────┬───────────────────┬──────────────┬──────────────────────┬─────────────────────────────────┬────────────────┐\n",
      "│ statistic  ┆ year        ┆ district_code ┆ district_name       ┆ neighborhood_code ┆ neighborhood_name ┆ population   ┆ income_index_bcn_100 ┆ load_timestamp                  ┆ source_dataset │\n",
      "│ ---        ┆ ---         ┆ ---           ┆ ---                 ┆ ---               ┆ ---               ┆ ---          ┆ ---                  ┆ ---                             ┆ ---            │\n",
      "│ str        ┆ f64         ┆ f64           ┆ str                 ┆ f64               ┆ str               ┆ f64          ┆ f64                  ┆ str                             ┆ str            │\n",
      "╞════════════╪═════════════╪═══════════════╪═════════════════════╪═══════════════════╪═══════════════════╪══════════════╪══════════════════════╪═════════════════════════════════╪════════════════╡\n",
      "│ count      ┆ 811.0       ┆ 811.0         ┆ 811                 ┆ 811.0             ┆ 811               ┆ 811.0        ┆ 803.0                ┆ 811                             ┆ 811            │\n",
      "│ null_count ┆ 0.0         ┆ 0.0           ┆ 0                   ┆ 0.0               ┆ 0                 ┆ 0.0          ┆ 8.0                  ┆ 0                               ┆ 0              │\n",
      "│ mean       ┆ 2011.993835 ┆ 7.161529      ┆ null                ┆ 37.611591         ┆ null              ┆ 21943.408138 ┆ 92.588917            ┆ 2025-06-22 09:43:22.640327+00:… ┆ null           │\n",
      "│ std        ┆ 3.158951    ┆ 9.583283      ┆ null                ┆ 21.857582         ┆ null              ┆ 14618.144852 ┆ 40.084215            ┆ null                            ┆ null           │\n",
      "│ min        ┆ 2007.0      ┆ 1.0           ┆ Ciutat Vella        ┆ 1.0               ┆ Baró de Viver     ┆ 1.0          ┆ 34.3                 ┆ 2025-06-22 09:43:22.640327+00:… ┆ income         │\n",
      "│ 25%        ┆ 2009.0      ┆ 4.0           ┆ null                ┆ 19.0              ┆ null              ┆ 10356.0      ┆ 67.6                 ┆ 2025-06-22 09:43:22.640327+00:… ┆ null           │\n",
      "│ 50%        ┆ 2012.0      ┆ 7.0           ┆ null                ┆ 37.0              ┆ null              ┆ 19732.0      ┆ 82.5                 ┆ 2025-06-22 09:43:22.640327+00:… ┆ null           │\n",
      "│ 75%        ┆ 2015.0      ┆ 8.0           ┆ null                ┆ 56.0              ┆ null              ┆ 30290.0      ┆ 103.8                ┆ 2025-06-22 09:43:22.640327+00:… ┆ null           │\n",
      "│ max        ┆ 2017.0      ┆ 99.0          ┆ Sarrià-Sant Gervasi ┆ 99.0              ┆ les Tres Torres   ┆ 58559.0      ┆ 251.7                ┆ 2025-06-22 09:43:22.640327+00:… ┆ income         │\n",
      "└────────────┴─────────────┴───────────────┴─────────────────────┴───────────────────┴───────────────────┴──────────────┴──────────────────────┴─────────────────────────────────┴────────────────┘\n",
      "\n",
      "============================================================\n"
     ]
    },
    {
     "data": {
      "application/vnd.jupyter.widget-view+json": {
       "model_id": "3db4fe7f0e7d4c41a48ef985c1f8dd7e",
       "version_major": 2,
       "version_minor": 0
      },
      "text/plain": [
       "VBox(children=(VBox(children=(HTML(value='<h3>🔍 Interactive DataFrame Inspector</h3>'), HBox(children=(Dropdow…"
      ]
     },
     "metadata": {},
     "output_type": "display_data"
    }
   ],
   "source": [
    "_ = inspect_dataframe_interactive(df_income)"
   ]
  },
  {
   "cell_type": "code",
   "execution_count": 4,
   "id": "2d5da14d",
   "metadata": {},
   "outputs": [],
   "source": [
    "dt_idealista = dl.DeltaTable(str(DATA_PATH / \"idealista\"))\n",
    "df_idealista = pl.from_arrow(dt_idealista.to_pyarrow_table())"
   ]
  },
  {
   "cell_type": "code",
   "execution_count": 5,
   "id": "acaca3d1",
   "metadata": {},
   "outputs": [
    {
     "name": "stdout",
     "output_type": "stream",
     "text": [
      "📊 DATAFRAME - SUMMARY\n",
      "============================================================\n",
      "Shape: 20,978 rows × 22 columns\n",
      "Memory usage: 3.93 MB\n",
      "\n",
      "Column Types:\n",
      "  Numeric: 7\n",
      "  Categorical: 11\n",
      "  Date: 1\n",
      "  Other: 3\n",
      "\n",
      "Data Quality:\n",
      "  Missing values: 12,110 (2.62%)\n",
      "  Duplicate rows: 10,468 (49.90%)\n",
      "\n",
      "💡 Key Insights:\n",
      "  ⚠️  Significant duplicates (49.9%)\n",
      "Summary overview:\n",
      "shape: (9, 23)\n",
      "┌────────────┬───────────────┬─────────────────────────────────┬───────────────────────────────┬───────────────────────────────┬──────────────────┬──────────────┬───────────┬───────────┬───────────────┬─────────────────────────────┬─────────────┬──────────┬───────────┬───────┬────────┬───────────────┬──────────────┬─────────────┬──────────┬─────────────┬─────────────────────────────────┬────────────────┐\n",
      "│ statistic  ┆ property_code ┆ property_url                    ┆ district                      ┆ neighborhood                  ┆ address          ┆ municipality ┆ latitude  ┆ longitude ┆ property_type ┆ detailed_type               ┆ size_m2     ┆ rooms    ┆ bathrooms ┆ floor ┆ status ┆ price_eur     ┆ price_per_m2 ┆ is_exterior ┆ has_lift ┆ has_parking ┆ load_timestamp                  ┆ source_dataset │\n",
      "│ ---        ┆ ---           ┆ ---                             ┆ ---                           ┆ ---                           ┆ ---              ┆ ---          ┆ ---       ┆ ---       ┆ ---           ┆ ---                         ┆ ---         ┆ ---      ┆ ---       ┆ ---   ┆ ---    ┆ ---           ┆ ---          ┆ ---         ┆ ---      ┆ ---         ┆ ---                             ┆ ---            │\n",
      "│ str        ┆ str           ┆ str                             ┆ str                           ┆ str                           ┆ str              ┆ str          ┆ f64       ┆ f64       ┆ str           ┆ str                         ┆ f64         ┆ f64      ┆ f64       ┆ str   ┆ str    ┆ f64           ┆ f64          ┆ f64         ┆ f64      ┆ f64         ┆ str                             ┆ str            │\n",
      "╞════════════╪═══════════════╪═════════════════════════════════╪═══════════════════════════════╪═══════════════════════════════╪══════════════════╪══════════════╪═══════════╪═══════════╪═══════════════╪═════════════════════════════╪═════════════╪══════════╪═══════════╪═══════╪════════╪═══════════════╪══════════════╪═════════════╪══════════╪═════════════╪═════════════════════════════════╪════════════════╡\n",
      "│ count      ┆ 20978         ┆ 20978                           ┆ 20978                         ┆ 13347                         ┆ 20978            ┆ 20978        ┆ 20978.0   ┆ 20978.0   ┆ 20978         ┆ 20978                       ┆ 20978.0     ┆ 20978.0  ┆ 20978.0   ┆ 16502 ┆ 20975  ┆ 20978.0       ┆ 20978.0      ┆ 20978.0     ┆ 20978.0  ┆ 20978.0     ┆ 20978                           ┆ 20978          │\n",
      "│ null_count ┆ 0             ┆ 0                               ┆ 0                             ┆ 7631                          ┆ 0                ┆ 0            ┆ 0.0       ┆ 0.0       ┆ 0             ┆ 0                           ┆ 0.0         ┆ 0.0      ┆ 0.0       ┆ 4476  ┆ 3      ┆ 0.0           ┆ 0.0          ┆ 0.0         ┆ 0.0      ┆ 0.0         ┆ 0                               ┆ 0              │\n",
      "│ mean       ┆ null          ┆ null                            ┆ null                          ┆ null                          ┆ null             ┆ null         ┆ 41.375859 ┆ 2.106897  ┆ null          ┆ null                        ┆ 160.780961  ┆ 3.192726 ┆ 1.764801  ┆ null  ┆ null   ┆ 468615.288159 ┆ 3484.26299   ┆ 0.657927    ┆ 0.630661 ┆ 0.199685    ┆ 2025-06-22 09:43:01.049241+00:… ┆ null           │\n",
      "│ std        ┆ null          ┆ null                            ┆ null                          ┆ null                          ┆ null             ┆ null         ┆ 0.032093  ┆ 0.039208  ┆ null          ┆ null                        ┆ 2225.208652 ┆ 1.213764 ┆ 1.11021   ┆ null  ┆ null   ┆ 595284.367286 ┆ 1712.726076  ┆ null        ┆ null     ┆ null        ┆ null                            ┆ null           │\n",
      "│ min        ┆ 1394150       ┆ https://www.idealista.com/inmu… ┆ Almeda                        ┆ Bellvitge                     ┆ 26 DE ENERO s/n  ┆ Barcelona    ┆ 41.295745 ┆ 2.013654  ┆ chalet        ┆ {casaTerrera, countryHouse} ┆ 10.0        ┆ 0.0      ┆ 0.0       ┆ -1    ┆ good   ┆ 34000.0       ┆ 1.0          ┆ 0.0         ┆ 0.0      ┆ 0.0         ┆ 2025-06-22 09:43:01.049241+00:… ┆ idealista      │\n",
      "│ 25%        ┆ null          ┆ null                            ┆ null                          ┆ null                          ┆ null             ┆ null         ┆ 41.36133  ┆ 2.0808876 ┆ null          ┆ null                        ┆ 67.0        ┆ 3.0      ┆ 1.0       ┆ null  ┆ null   ┆ 170000.0      ┆ 2314.0       ┆ null        ┆ null     ┆ null        ┆ 2025-06-22 09:43:01.049241+00:… ┆ null           │\n",
      "│ 50%        ┆ null          ┆ null                            ┆ null                          ┆ null                          ┆ null             ┆ null         ┆ 41.370168 ┆ 2.1110449 ┆ null          ┆ null                        ┆ 87.0        ┆ 3.0      ┆ 1.0       ┆ null  ┆ null   ┆ 276000.0      ┆ 3027.0       ┆ null        ┆ null     ┆ null        ┆ 2025-06-22 09:43:01.049241+00:… ┆ null           │\n",
      "│ 75%        ┆ null          ┆ null                            ┆ null                          ┆ null                          ┆ null             ┆ null         ┆ 41.386211 ┆ 2.136212  ┆ null          ┆ null                        ┆ 126.0       ┆ 4.0      ┆ 2.0       ┆ null  ┆ null   ┆ 495000.0      ┆ 4144.0       ┆ null        ┆ null     ┆ null        ┆ 2025-06-22 09:43:01.049241+00:… ┆ null           │\n",
      "│ max        ┆ 93215144      ┆ https://www.idealista.com/obra… ┆ Zona Estación - Casco Antiguo ┆ Vilapicina i la Torre Llobeta ┆ zona correos s/n ┆ Viladecans   ┆ 41.485005 ┆ 2.1949138 ┆ studio        ┆ {terracedHouse, chalet}     ┆ 144000.0    ┆ 15.0     ┆ 19.0      ┆ st    ┆ renew  ┆ 1.2e7         ┆ 25000.0      ┆ 1.0         ┆ 1.0      ┆ 1.0         ┆ 2025-06-22 09:43:01.049241+00:… ┆ idealista      │\n",
      "└────────────┴───────────────┴─────────────────────────────────┴───────────────────────────────┴───────────────────────────────┴──────────────────┴──────────────┴───────────┴───────────┴───────────────┴─────────────────────────────┴─────────────┴──────────┴───────────┴───────┴────────┴───────────────┴──────────────┴─────────────┴──────────┴─────────────┴─────────────────────────────────┴────────────────┘\n",
      "\n",
      "============================================================\n"
     ]
    },
    {
     "data": {
      "application/vnd.jupyter.widget-view+json": {
       "model_id": "388637acab64466783c34b04d0c479ca",
       "version_major": 2,
       "version_minor": 0
      },
      "text/plain": [
       "VBox(children=(VBox(children=(HTML(value='<h3>🔍 Interactive DataFrame Inspector</h3>'), HBox(children=(Dropdow…"
      ]
     },
     "metadata": {},
     "output_type": "display_data"
    }
   ],
   "source": [
    "_ = inspect_dataframe_interactive(df_idealista)"
   ]
  },
  {
   "cell_type": "code",
   "execution_count": 6,
   "id": "3162ff14",
   "metadata": {},
   "outputs": [],
   "source": [
    "dt_cs = dl.DeltaTable(str(DATA_PATH / \"cultural_sites\"))\n",
    "df_cs = pl.from_arrow(dt_cs.to_pyarrow_table())"
   ]
  },
  {
   "cell_type": "code",
   "execution_count": 7,
   "id": "49464e57",
   "metadata": {},
   "outputs": [
    {
     "name": "stdout",
     "output_type": "stream",
     "text": [
      "📊 DATAFRAME - SUMMARY\n",
      "============================================================\n",
      "Shape: 871 rows × 12 columns\n",
      "Memory usage: 0.11 MB\n",
      "\n",
      "Column Types:\n",
      "  Numeric: 3\n",
      "  Categorical: 8\n",
      "  Date: 1\n",
      "  Other: 0\n",
      "\n",
      "Data Quality:\n",
      "  Missing values: 1,409 (13.48%)\n",
      "  Duplicate rows: 0 (0.00%)\n",
      "\n",
      "💡 Key Insights:\n",
      "  ⚠️  High missing data rate (13.5%)\n",
      "Summary overview:\n",
      "shape: (9, 13)\n",
      "┌────────────┬─────────┬─────────────────────────────────┬──────────────────────────┬───────────────┬─────────────────────┬─────────────────┬──────────┬───────────┬──────────────────────┬────────────────────────┬─────────────────────────────────┬────────────────┐\n",
      "│ statistic  ┆ site_id ┆ facility_name                   ┆ institution_name         ┆ district_code ┆ district            ┆ neighborhood    ┆ latitude ┆ longitude ┆ category             ┆ facility_type          ┆ load_timestamp                  ┆ source_dataset │\n",
      "│ ---        ┆ ---     ┆ ---                             ┆ ---                      ┆ ---           ┆ ---                 ┆ ---             ┆ ---      ┆ ---       ┆ ---                  ┆ ---                    ┆ ---                             ┆ ---            │\n",
      "│ str        ┆ str     ┆ str                             ┆ str                      ┆ f64           ┆ str                 ┆ str             ┆ f64      ┆ f64       ┆ str                  ┆ str                    ┆ str                             ┆ str            │\n",
      "╞════════════╪═════════╪═════════════════════════════════╪══════════════════════════╪═══════════════╪═════════════════════╪═════════════════╪══════════╪═══════════╪══════════════════════╪════════════════════════╪═════════════════════════════════╪════════════════╡\n",
      "│ count      ┆ 871     ┆ 871                             ┆ 22                       ┆ 871.0         ┆ 871                 ┆ 871             ┆ 871.0    ┆ 871.0     ┆ 591                  ┆ 591                    ┆ 871                             ┆ 871            │\n",
      "│ null_count ┆ 0       ┆ 0                               ┆ 849                      ┆ 0.0           ┆ 0                   ┆ 0               ┆ 0.0      ┆ 0.0       ┆ 280                  ┆ 280                    ┆ 0                               ┆ 0              │\n",
      "│ mean       ┆ null    ┆ null                            ┆ null                     ┆ 5.001148      ┆ null                ┆ null            ┆ 2.160038 ┆ 41.400673 ┆ null                 ┆ null                   ┆ 2025-06-22 09:43:29.963395+00:… ┆ null           │\n",
      "│ std        ┆ null    ┆ null                            ┆ null                     ┆ 2.813555      ┆ null                ┆ null            ┆ 0.025457 ┆ 0.02082   ┆ null                 ┆ null                   ┆ null                            ┆ null           │\n",
      "│ min        ┆ 1       ┆ \"\"\"Vivendes\"\" del Congrés Euca… ┆ Barcelona Activa         ┆ 1.0           ┆ Ciutat Vella        ┆ Baró de Viver   ┆ 2.059007 ┆ 41.353039 ┆ Informació d'interès ┆ -                      ┆ 2025-06-22 09:43:29.963396+00:… ┆ cultural_sites │\n",
      "│ 25%        ┆ null    ┆ null                            ┆ null                     ┆ 3.0           ┆ null                ┆ null            ┆ 2.143035 ┆ 41.384547 ┆ null                 ┆ null                   ┆ 2025-06-22 09:43:29.963396+00:… ┆ null           │\n",
      "│ 50%        ┆ null    ┆ null                            ┆ null                     ┆ 5.0           ┆ null                ┆ null            ┆ 2.160232 ┆ 41.399665 ┆ null                 ┆ null                   ┆ 2025-06-22 09:43:29.963396+00:… ┆ null           │\n",
      "│ 75%        ┆ null    ┆ null                            ┆ null                     ┆ 7.0           ┆ null                ┆ null            ┆ 2.17957  ┆ 41.413632 ┆ null                 ┆ null                   ┆ 2025-06-22 09:43:29.963396+00:… ┆ null           │\n",
      "│ max        ┆ 99      ┆ Àntiga Fàbrica de Làmpares Z    ┆ Universitat de Barcelona ┆ 10.0          ┆ Sarrià-Sant Gervasi ┆ les Tres Torres ┆ 2.228124 ┆ 41.464787 ┆ Variables            ┆ zoobarcelona@bsmsa.cat ┆ 2025-06-22 09:43:29.963396+00:… ┆ cultural_sites │\n",
      "└────────────┴─────────┴─────────────────────────────────┴──────────────────────────┴───────────────┴─────────────────────┴─────────────────┴──────────┴───────────┴──────────────────────┴────────────────────────┴─────────────────────────────────┴────────────────┘\n",
      "\n",
      "============================================================\n"
     ]
    },
    {
     "data": {
      "application/vnd.jupyter.widget-view+json": {
       "model_id": "296570b7ec794b47959f90f0ccc71b12",
       "version_major": 2,
       "version_minor": 0
      },
      "text/plain": [
       "VBox(children=(VBox(children=(HTML(value='<h3>🔍 Interactive DataFrame Inspector</h3>'), HBox(children=(Dropdow…"
      ]
     },
     "metadata": {},
     "output_type": "display_data"
    }
   ],
   "source": [
    "_ = inspect_dataframe_interactive(df_cs)"
   ]
  }
 ],
 "metadata": {
  "kernelspec": {
   "display_name": "pyspark_env1",
   "language": "python",
   "name": "python3"
  },
  "language_info": {
   "codemirror_mode": {
    "name": "ipython",
    "version": 3
   },
   "file_extension": ".py",
   "mimetype": "text/x-python",
   "name": "python",
   "nbconvert_exporter": "python",
   "pygments_lexer": "ipython3",
   "version": "3.10.18"
  }
 },
 "nbformat": 4,
 "nbformat_minor": 5
}
